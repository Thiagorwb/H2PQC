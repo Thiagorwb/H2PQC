{
 "cells": [
  {
   "cell_type": "markdown",
   "metadata": {},
   "source": [
    "# Multi-Qubit Operations\n",
    "$\\newcommand{\\ket}[1]{\\left|{#1}\\right\\rangle}$\n",
    "$\\newcommand{\\bra}[1]{\\left\\langle{#1}\\right|}$"
   ]
  },
  {
   "cell_type": "code",
   "execution_count": 1,
   "metadata": {},
   "outputs": [
    {
     "name": "stderr",
     "output_type": "stream",
     "text": [
      "/Users/jacquescarolan/anaconda2/envs/Qiskitenv/lib/python3.7/site-packages/marshmallow/schema.py:364: ChangedInMarshmallow3Warning: strict=False is not recommended. In marshmallow 3.0, schemas will always be strict. See https://marshmallow.readthedocs.io/en/latest/upgrading.html#schemas-are-always-strict\n",
      "  ChangedInMarshmallow3Warning\n"
     ]
    }
   ],
   "source": [
    "from qiskit import QuantumRegister, ClassicalRegister\n",
    "from qiskit import QuantumCircuit, BasicAer, execute\n",
    "from qiskit.tools.visualization import plot_histogram\n",
    "\n",
    "import matplotlib.pyplot as plt\n",
    "import numpy as np"
   ]
  },
  {
   "cell_type": "markdown",
   "metadata": {},
   "source": [
    "### 2.1 CNOT\n",
    "OK, one qubit is kinda boring after a while... lets look at some two qubit operations!  Build a two qubit circuit, and figure out the truth table (i.e. the transformation for all the different two qubit states) for the CNOT operation `cx(q[0], q[1])` --- this is one of the most important gates in quantum computing!\n",
    "\n",
    "**NOTE** Qiskit has a weird ordering for indexing the qubits: $\\ket{q_n, q_{n-1} \\dots q_1 }$"
   ]
  },
  {
   "cell_type": "code",
   "execution_count": 2,
   "metadata": {},
   "outputs": [],
   "source": [
    "# Initliaise quantum and classical register (hint. 2 qubits!)\n",
    "\n",
    "\n",
    "# Apply a CNOT (cx) between qubit 0 and and qubit 1\n",
    "\n",
    "\n",
    "# Measure the qubit\n",
    "\n",
    "\n",
    "# Set the initial state (|00>, |10>, |01>, |11> ...)\n",
    "\n",
    "\n",
    "# Load backend QasmSimulator and run the job\n",
    "\n",
    "# get the counts (how many events in each bin)\n",
    "\n",
    "\n",
    "# plot\n"
   ]
  },
  {
   "cell_type": "markdown",
   "metadata": {},
   "source": [
    "### 2.2 Bell states\n",
    "\n",
    "The CNOT has this interesting property where the first qubit controls the second qubit.  Let's look what happens when you put the control qubit in one of these fancy superposition!\n",
    "To do this:\n",
    "- start with the $\\ket{00}$ state\n",
    "- apply a Hadmard to qubit 0 \n",
    "- apply the CNOT operation between qubit 0 and qubit 1\n",
    "\n",
    "Once you've done this, try:\n",
    "- applying a Hadamard to both qubits before they are meausured.\n",
    "- apply just one Hadamard"
   ]
  },
  {
   "cell_type": "code",
   "execution_count": 3,
   "metadata": {},
   "outputs": [],
   "source": [
    "# Initliaise quantum and classical register (hint. 2 qubits!)\n",
    "\n",
    "\n",
    "# Apply a CNOT (cx) between qubit 0 and and qubit 1\n",
    "\n",
    "# Measure the qubit\n",
    "\n",
    "\n",
    "# Set the initial state (|00>, |10>, |01>, |11> ...)\n",
    "\n",
    "\n",
    "# Load backend QasmSimulator and run the job\n",
    "\n",
    "# get the counts (how many events in each bin)\n",
    "\n",
    "# plot\n"
   ]
  },
  {
   "cell_type": "code",
   "execution_count": null,
   "metadata": {},
   "outputs": [],
   "source": []
  }
 ],
 "metadata": {
  "kernelspec": {
   "display_name": "Python 3",
   "language": "python",
   "name": "python3"
  },
  "language_info": {
   "codemirror_mode": {
    "name": "ipython",
    "version": 3
   },
   "file_extension": ".py",
   "mimetype": "text/x-python",
   "name": "python",
   "nbconvert_exporter": "python",
   "pygments_lexer": "ipython3",
   "version": "3.7.1"
  }
 },
 "nbformat": 4,
 "nbformat_minor": 2
}
