{
 "cells": [
  {
   "cell_type": "markdown",
   "metadata": {},
   "source": [
    "# Multi-Qubit Operations\n",
    "$\\newcommand{\\ket}[1]{\\left|{#1}\\right\\rangle}$\n",
    "$\\newcommand{\\bra}[1]{\\left\\langle{#1}\\right|}$"
   ]
  },
  {
   "cell_type": "code",
   "execution_count": 1,
   "metadata": {},
   "outputs": [
    {
     "name": "stderr",
     "output_type": "stream",
     "text": [
      "/Users/jacquescarolan/anaconda2/envs/Qiskitenv/lib/python3.7/site-packages/marshmallow/schema.py:364: ChangedInMarshmallow3Warning: strict=False is not recommended. In marshmallow 3.0, schemas will always be strict. See https://marshmallow.readthedocs.io/en/latest/upgrading.html#schemas-are-always-strict\n",
      "  ChangedInMarshmallow3Warning\n"
     ]
    }
   ],
   "source": [
    "from qiskit import QuantumRegister, ClassicalRegister\n",
    "from qiskit import QuantumCircuit, BasicAer, execute\n",
    "from qiskit.tools.visualization import plot_histogram\n",
    "\n",
    "import matplotlib.pyplot as plt\n",
    "import numpy as np"
   ]
  },
  {
   "cell_type": "markdown",
   "metadata": {},
   "source": [
    "### 2.1 CNOT\n",
    "OK, one qubit is kinda boring after a while... lets look at some two qubit operations!  Build a two qubit circuit, and figure out the truth table (i.e. the transformation for all the different two qubit states) for the CNOT operation `cx(q[0], q[1])` --- this is one of the most important gates in quantum computing!\n",
    "\n",
    "**NOTE** Qiskit has a weird ordering for indexing the qubits: $\\ket{q_n, q_{n-1} \\dots q_1 }$"
   ]
  },
  {
   "cell_type": "code",
   "execution_count": 14,
   "metadata": {},
   "outputs": [
    {
     "name": "stdout",
     "output_type": "stream",
     "text": [
      "{'01': 1024}\n"
     ]
    },
    {
     "data": {
      "image/png": "[encoded data removed]",
      "text/plain": [
       "<Figure size 504x360 with 1 Axes>"
      ]
     },
     "execution_count": 14,
     "metadata": {},
     "output_type": "execute_result"
    }
   ],
   "source": [
    "# Build Circuit\n",
    "q = QuantumRegister(2)\n",
    "c = ClassicalRegister(2)\n",
    "qc = QuantumCircuit(q, c)\n",
    "\n",
    "# Apply a CNOT (cx) between qubit 0 and and qubit 2 \n",
    "qc.cx(q[0], q[1])\n",
    "\n",
    "# Measure the qubit\n",
    "qc.barrier(q)\n",
    "\n",
    "# Set the initial state (|00>, |10>, |01>, |11> ...)\n",
    "opts = {\"initial_statevector\": np.array([0, 0, 0, 1])}\n",
    "\n",
    "# Load backend QasmSimulator and run the job\n",
    "backend = BasicAer.get_backend('qasm_simulator')\n",
    "job = execute(qc, backend, shots=1024, backend_options=opts)\n",
    "result = job.result()\n",
    "\n",
    "# get the counts (how many events in each bin)\n",
    "counts = result.get_counts(qc)\n",
    "print(counts)\n",
    "\n",
    "# plot\n",
    "plot_histogram(counts)"
   ]
  },
  {
   "cell_type": "markdown",
   "metadata": {},
   "source": [
    "### 2.2 Bell states\n",
    "\n",
    "The CNOT has this interesting property where the first qubit controls the second qubit.  Let's look what happens when you put the control qubit in one of these fancy superposition!\n",
    "To do this:\n",
    "- start with the $\\ket{00}$ state\n",
    "- apply a Hadmard to qubit 0 \n",
    "- apply the CNOT operation between qubit 0 and qubit 1\n",
    "\n",
    "Once you've done this, try:\n",
    "- applying a Hadamard to both qubits before they are meausured.\n",
    "- apply just one Hadamard"
   ]
  },
  {
   "cell_type": "code",
   "execution_count": 2,
   "metadata": {},
   "outputs": [
    {
     "name": "stdout",
     "output_type": "stream",
     "text": [
      "{'00': 498, '11': 526}\n"
     ]
    },
    {
     "name": "stderr",
     "output_type": "stream",
     "text": [
      "/Users/jacquescarolan/anaconda2/envs/Qiskitenv/lib/python3.7/site-packages/marshmallow/schema.py:364: ChangedInMarshmallow3Warning: strict=False is not recommended. In marshmallow 3.0, schemas will always be strict. See https://marshmallow.readthedocs.io/en/latest/upgrading.html#schemas-are-always-strict\n",
      "  ChangedInMarshmallow3Warning\n"
     ]
    },
    {
     "data": {
      "image/png": "[encoded data removed]",
      "text/plain": [
       "<Figure size 504x360 with 1 Axes>"
      ]
     },
     "execution_count": 2,
     "metadata": {},
     "output_type": "execute_result"
    }
   ],
   "source": [
    "# Build Circuit\n",
    "q = QuantumRegister(2)\n",
    "c = ClassicalRegister(2)\n",
    "qc = QuantumCircuit(q, c)\n",
    "qc.h(q[0])\n",
    "qc.cx(q[0], q[1])\n",
    "\n",
    "# Measure the qubit\n",
    "qc.barrier(q)\n",
    "qc.measure(q, c)\n",
    "qc.draw()\n",
    "\n",
    "\n",
    "# Set the initial state (|00>, |01> ...)\n",
    "opts = {\"initial_statevector\": np.array([1, 0, 0, 0])}\n",
    "\n",
    "# Load backend QasmSimulator and run the job\n",
    "backend = BasicAer.get_backend('qasm_simulator')\n",
    "job = execute(qc, backend, shots=1024, backend_options=opts)\n",
    "result = job.result()\n",
    "\n",
    "# get the counts (how many events in each bin)\n",
    "counts = result.get_counts(qc)\n",
    "print(counts)\n",
    "\n",
    "# plot\n",
    "plot_histogram(counts)"
   ]
  },
  {
   "cell_type": "code",
   "execution_count": null,
   "metadata": {},
   "outputs": [],
   "source": []
  }
 ],
 "metadata": {
  "kernelspec": {
   "display_name": "Python 3",
   "language": "python",
   "name": "python3"
  },
  "language_info": {
   "codemirror_mode": {
    "name": "ipython",
    "version": 3
   },
   "file_extension": ".py",
   "mimetype": "text/x-python",
   "name": "python",
   "nbconvert_exporter": "python",
   "pygments_lexer": "ipython3",
   "version": "3.7.1"
  }
 },
 "nbformat": 4,
 "nbformat_minor": 2
}
