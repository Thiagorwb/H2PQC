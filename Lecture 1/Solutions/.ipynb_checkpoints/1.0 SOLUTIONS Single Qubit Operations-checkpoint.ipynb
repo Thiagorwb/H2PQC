{
 "cells": [
  {
   "cell_type": "markdown",
   "metadata": {},
   "source": [
    "# 1.0 Solutions: Single Qubit Operations\n",
    "\n",
    "In this notebook we'll explore some properties of single qubit operations\n",
    "$\\newcommand{\\ket}[1]{\\left|{#1}\\right\\rangle}$\n",
    "$\\newcommand{\\bra}[1]{\\left\\langle{#1}\\right|}$"
   ]
  },
  {
   "cell_type": "code",
   "execution_count": 4,
   "metadata": {},
   "outputs": [],
   "source": [
    "from qiskit import QuantumRegister, ClassicalRegister\n",
    "from qiskit import QuantumCircuit, BasicAer, execute\n",
    "from qiskit.tools.visualization import plot_histogram\n",
    "\n",
    "import matplotlib.pyplot as plt\n",
    "import numpy as np"
   ]
  },
  {
   "cell_type": "markdown",
   "metadata": {},
   "source": [
    "### 1.1 Pauli X\n",
    "- Initialise a single quantum bit and classical register\n",
    "- confirm the properties of the X operation `x(q[0])`, what happens when you put $\\ket{0}$ through, and when you put $\\ket{1}$ through?"
   ]
  },
  {
   "cell_type": "code",
   "execution_count": 6,
   "metadata": {},
   "outputs": [
    {
     "name": "stdout",
     "output_type": "stream",
     "text": [
      "{'1': 1024}\n"
     ]
    },
    {
     "data": {
      "image/png": "[encoded data removed]",
      "text/plain": [
       "<Figure size 504x360 with 1 Axes>"
      ]
     },
     "execution_count": 6,
     "metadata": {},
     "output_type": "execute_result"
    }
   ],
   "source": [
    "# Initliaise quantum and classical register\n",
    "q = QuantumRegister(1)\n",
    "c = ClassicalRegister(1)\n",
    "qc = QuantumCircuit(q, c)\n",
    "\n",
    "# apply the X operation\n",
    "qc.x(q[0])\n",
    "\n",
    "\n",
    "# apply the measurement\n",
    "qc.measure(q, c)\n",
    "\n",
    "\n",
    "# Set the initial state (either |0> or |1>)\n",
    "opts = {\"initial_statevector\": np.array([1,0])} # input the qubit |0>\n",
    "# opts = {\"initial_statevector\": np.array([0,1])} # input the qubit |1>\n",
    "\n",
    "# Load backend QasmSimulator and run the job\n",
    "backend = BasicAer.get_backend('qasm_simulator')\n",
    "job = execute(qc, backend, shots=1024, backend_options=opts)\n",
    "result = job.result()\n",
    "\n",
    "# get the counts (how many events in each bin)\n",
    "counts = result.get_counts(qc)\n",
    "print(counts)\n",
    "\n",
    "# plot histogram\n",
    "plot_histogram(counts)"
   ]
  },
  {
   "cell_type": "markdown",
   "metadata": {},
   "source": [
    "### 1.2 Hadamard\n",
    "Lets look at the properties of the Hadamard gate `h(q[0])`.  What happens when you put $\\ket{0}$ in, then $\\ket{1}$ in?"
   ]
  },
  {
   "cell_type": "code",
   "execution_count": 7,
   "metadata": {},
   "outputs": [
    {
     "name": "stdout",
     "output_type": "stream",
     "text": [
      "{'0': 495, '1': 529}\n"
     ]
    },
    {
     "data": {
      "image/png": "[encoded data removed]",
      "text/plain": [
       "<Figure size 504x360 with 1 Axes>"
      ]
     },
     "execution_count": 7,
     "metadata": {},
     "output_type": "execute_result"
    }
   ],
   "source": [
    "# Initliaise quantum and classical register\n",
    "q = QuantumRegister(1)\n",
    "c = ClassicalRegister(1)\n",
    "qc = QuantumCircuit(q, c)\n",
    "\n",
    "# apply the h operation\n",
    "qc.h(q[0])\n",
    "\n",
    "\n",
    "# apply the measurement\n",
    "qc.measure(q, c)\n",
    "\n",
    "\n",
    "# Set the initial state (either |0> or |1>)\n",
    "opts = {\"initial_statevector\": np.array([1,0])} # input the qubit |0>\n",
    "# opts = {\"initial_statevector\": np.array([0,1])} # input the qubit |1>\n",
    "\n",
    "# Load backend QasmSimulator and run the job\n",
    "backend = BasicAer.get_backend('qasm_simulator')\n",
    "job = execute(qc, backend, shots=1024, backend_options=opts)\n",
    "result = job.result()\n",
    "\n",
    "# get the counts (how many events in each bin)\n",
    "counts = result.get_counts(qc)\n",
    "print(counts)\n",
    "\n",
    "# plot histogram\n",
    "plot_histogram(counts)"
   ]
  },
  {
   "cell_type": "markdown",
   "metadata": {},
   "source": [
    "Eeek! The quanutm statistics are the same.  Lets try putting in different states to see whats going on:\n",
    "$$\\ket{+}=(\\ket{0}+\\ket{1})/\\sqrt{2}$$\n",
    "$$\\ket{-}=(\\ket{0}-\\ket{1})/\\sqrt{2}$$"
   ]
  },
  {
   "cell_type": "code",
   "execution_count": 5,
   "metadata": {},
   "outputs": [
    {
     "name": "stdout",
     "output_type": "stream",
     "text": [
      "{'0': 1024}\n"
     ]
    },
    {
     "data": {
      "image/png": "[encoded data removed]",
      "text/plain": [
       "<Figure size 504x360 with 1 Axes>"
      ]
     },
     "execution_count": 5,
     "metadata": {},
     "output_type": "execute_result"
    }
   ],
   "source": [
    "# Set the initial state (either |+> or |->)\n",
    "opts = {\"initial_statevector\": np.array([1,1])/np.sqrt(2)} # input the qubit |0>\n",
    "# opts = {\"initial_statevector\": np.array([0,1])} # input the qubit |1>\n",
    "\n",
    "# Load backend QasmSimulator and run the job\n",
    "backend = BasicAer.get_backend('qasm_simulator')\n",
    "job = execute(qc, backend, shots=1024, backend_options=opts)\n",
    "result = job.result()\n",
    "\n",
    "# get the counts (how many events in each bin)\n",
    "counts = result.get_counts(qc)\n",
    "print(counts)\n",
    "\n",
    "# plot\n",
    "plot_histogram(counts)"
   ]
  },
  {
   "cell_type": "markdown",
   "metadata": {},
   "source": [
    "So you can figure out what the gate is doing by inputting different states, and making measurments.  You've just done *quanutm tomography*!"
   ]
  },
  {
   "cell_type": "code",
   "execution_count": null,
   "metadata": {},
   "outputs": [],
   "source": []
  }
 ],
 "metadata": {
  "kernelspec": {
   "display_name": "Python 3",
   "language": "python",
   "name": "python3"
  },
  "language_info": {
   "codemirror_mode": {
    "name": "ipython",
    "version": 3
   },
   "file_extension": ".py",
   "mimetype": "text/x-python",
   "name": "python",
   "nbconvert_exporter": "python",
   "pygments_lexer": "ipython3",
   "version": "3.7.1"
  }
 },
 "nbformat": 4,
 "nbformat_minor": 2
}
