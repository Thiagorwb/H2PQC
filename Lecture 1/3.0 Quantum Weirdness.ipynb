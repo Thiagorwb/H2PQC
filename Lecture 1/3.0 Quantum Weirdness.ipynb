{
 "cells": [
  {
   "cell_type": "markdown",
   "metadata": {},
   "source": [
    "# 3.0 Quantum Weirdness\n",
    "$\\newcommand{\\ket}[1]{\\left|{#1}\\right\\rangle}$\n",
    "$\\newcommand{\\bra}[1]{\\left\\langle{#1}\\right|}$"
   ]
  },
  {
   "cell_type": "code",
   "execution_count": 55,
   "metadata": {},
   "outputs": [],
   "source": [
    "from qiskit import QuantumRegister, ClassicalRegister\n",
    "from qiskit import QuantumCircuit, BasicAer, execute\n",
    "from qiskit.tools.visualization import plot_histogram\n",
    "\n",
    "import matplotlib.pyplot as plt\n",
    "import numpy as np"
   ]
  },
  {
   "cell_type": "code",
   "execution_count": 61,
   "metadata": {},
   "outputs": [
    {
     "name": "stdout",
     "output_type": "stream",
     "text": [
      "{'011': 265, '110': 276, '101': 244, '000': 239}\n"
     ]
    },
    {
     "data": {
      "image/png": "[encoded data removed]",
      "text/plain": [
       "<Figure size 504x360 with 1 Axes>"
      ]
     },
     "execution_count": 61,
     "metadata": {},
     "output_type": "execute_result"
    }
   ],
   "source": [
    "# Build Circuit\n",
    "q = QuantumRegister(3)\n",
    "c = ClassicalRegister(3)\n",
    "qc = QuantumCircuit(q, c)\n",
    "qc.h(q[0])\n",
    "qc.cx(q[0], q[1])\n",
    "qc.cx(q[0], q[2])\n",
    "\n",
    "# #local operations\n",
    "qc.h(q[0])\n",
    "qc.h(q[1])\n",
    "qc.h(q[2])\n",
    "qc.s(q[0])\n",
    "qc.s(q[1])\n",
    "qc.s(q[2])\n",
    "\n",
    "# Measure the qubit\n",
    "qc.barrier()\n",
    "qc.z(q[0])\n",
    "qc.z(q[1])\n",
    "qc.z(q[2])\n",
    "\n",
    "qc.measure(q, c)\n",
    "\n",
    "\n",
    "\n",
    "\n",
    "# Load backend QasmSimulator and run the job\n",
    "backend = BasicAer.get_backend('qasm_simulator')\n",
    "job = execute(qc, backend, shots=1024)\n",
    "result = job.result()\n",
    "\n",
    "# get the counts (how many events in each bin)\n",
    "counts = result.get_counts(qc)\n",
    "print(counts)\n",
    "\n",
    "# plot\n",
    "plot_histogram(counts)"
   ]
  },
  {
   "cell_type": "code",
   "execution_count": 48,
   "metadata": {},
   "outputs": [
    {
     "data": {
      "text/html": [
       "<pre style=\"word-wrap: normal;white-space: pre;line-height: 15px;\">          ┌───┐                              ┌───┐┌───┐ ░                 ┌───┐»\n",
       "q39_0: |0>┤ H ├──■──────────────■────────────┤ H ├┤ S ├─░─────────────────┤ H ├»\n",
       "          └───┘┌─┴─┐┌───┐┌───┐  │            └───┘└───┘ ░         ┌───┐┌─┐└───┘»\n",
       "q39_1: |0>─────┤ X ├┤ H ├┤ S ├──┼───────────────────────░─────────┤ H ├┤M├─────»\n",
       "               └───┘└───┘└───┘┌─┴─┐┌───┐┌───┐           ░ ┌───┐┌─┐└───┘└╥┘     »\n",
       "q39_2: |0>────────────────────┤ X ├┤ H ├┤ S ├───────────░─┤ Z ├┤M├──────╫──────»\n",
       "                              └───┘└───┘└───┘           ░ └───┘└╥┘      ║      »\n",
       " c39_0: 0 ══════════════════════════════════════════════════════╬═══════╬══════»\n",
       "                                                                ║       ║      »\n",
       " c39_1: 0 ══════════════════════════════════════════════════════╬═══════╩══════»\n",
       "                                                                ║              »\n",
       " c39_2: 0 ══════════════════════════════════════════════════════╩══════════════»\n",
       "                                                                               »\n",
       "«       ┌─┐\n",
       "«q39_0: ┤M├\n",
       "«       └╥┘\n",
       "«q39_1: ─╫─\n",
       "«        ║ \n",
       "«q39_2: ─╫─\n",
       "«        ║ \n",
       "«c39_0: ═╩═\n",
       "«          \n",
       "«c39_1: ═══\n",
       "«          \n",
       "«c39_2: ═══\n",
       "«          </pre>"
      ],
      "text/plain": [
       "<qiskit.tools.visualization._text.TextDrawing at 0x127120d30>"
      ]
     },
     "execution_count": 48,
     "metadata": {},
     "output_type": "execute_result"
    }
   ],
   "source": [
    "qc.draw()"
   ]
  },
  {
   "cell_type": "code",
   "execution_count": 54,
   "metadata": {},
   "outputs": [
    {
     "name": "stdout",
     "output_type": "stream",
     "text": [
      "{'111': 500, '000': 524}\n"
     ]
    },
    {
     "data": {
      "image/png": "[encoded data removed]",
      "text/plain": [
       "<Figure size 504x360 with 1 Axes>"
      ]
     },
     "execution_count": 54,
     "metadata": {},
     "output_type": "execute_result"
    }
   ],
   "source": [
    "# Build Circuit\n",
    "q = QuantumRegister(3)\n",
    "c = ClassicalRegister(3)\n",
    "qc = QuantumCircuit(q, c)\n",
    "qc.h(q[0])\n",
    "qc.cx(q[0], q[1])\n",
    "qc.cx(q[0], q[2])\n",
    "\n",
    "# # #local operations\n",
    "# qc.h(q[0])\n",
    "# qc.h(q[1])\n",
    "# qc.h(q[2])\n",
    "# qc.s(q[0])\n",
    "# qc.s(q[1])\n",
    "# qc.s(q[2])\n",
    "\n",
    "# Measure the qubit\n",
    "qc.barrier()\n",
    "qc.x(q[0])\n",
    "qc.x(q[1])\n",
    "qc.x(q[2])\n",
    "\n",
    "qc.measure(q, c)\n",
    "\n",
    "\n",
    "\n",
    "\n",
    "# Load backend QasmSimulator and run the job\n",
    "backend = BasicAer.get_backend('qasm_simulator')\n",
    "job = execute(qc, backend, shots=1024)\n",
    "result = job.result()\n",
    "\n",
    "# get the counts (how many events in each bin)\n",
    "counts = result.get_counts(qc)\n",
    "print(counts)\n",
    "\n",
    "# plot\n",
    "plot_histogram(counts)"
   ]
  },
  {
   "cell_type": "code",
   "execution_count": null,
   "metadata": {},
   "outputs": [],
   "source": []
  }
 ],
 "metadata": {
  "kernelspec": {
   "display_name": "Python 3",
   "language": "python",
   "name": "python3"
  },
  "language_info": {
   "codemirror_mode": {
    "name": "ipython",
    "version": 3
   },
   "file_extension": ".py",
   "mimetype": "text/x-python",
   "name": "python",
   "nbconvert_exporter": "python",
   "pygments_lexer": "ipython3",
   "version": "3.7.1"
  }
 },
 "nbformat": 4,
 "nbformat_minor": 2
}
