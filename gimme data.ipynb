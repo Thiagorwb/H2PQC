{
 "cells": [
  {
   "cell_type": "markdown",
   "metadata": {},
   "source": [
    "# Lets use the actual quantum computer"
   ]
  },
  {
   "cell_type": "code",
   "execution_count": 20,
   "metadata": {},
   "outputs": [],
   "source": [
    "from qiskit import QuantumRegister, ClassicalRegister\n",
    "from qiskit import QuantumCircuit, BasicAer, execute\n",
    "from qiskit.tools.visualization import plot_histogram\n",
    "\n",
    "from qiskit import IBMQ\n",
    "from qiskit.tools.monitor import job_monitor\n",
    "\n",
    "\n",
    "import matplotlib.pyplot as plt\n",
    "import numpy as np"
   ]
  },
  {
   "cell_type": "markdown",
   "metadata": {},
   "source": [
    "- Sign up for a (free account) at the [IBM quantum experience](https://quantumexperience.ng.bluemix.net/qx/experience)\n",
    "- In account settings, generate a token"
   ]
  },
  {
   "cell_type": "code",
   "execution_count": 6,
   "metadata": {},
   "outputs": [],
   "source": [
    "token = ''\n",
    "IBMQ.enable_account(token)"
   ]
  },
  {
   "cell_type": "markdown",
   "metadata": {},
   "source": [
    "Check what backends (i.e. quantum computers) are availible to you"
   ]
  },
  {
   "cell_type": "code",
   "execution_count": 7,
   "metadata": {},
   "outputs": [
    {
     "data": {
      "text/plain": [
       "[<IBMQBackend('ibmqx4') from IBMQ()>,\n",
       " <IBMQBackend('ibmq_16_melbourne') from IBMQ()>,\n",
       " <IBMQBackend('ibmq_qasm_simulator') from IBMQ()>]"
      ]
     },
     "execution_count": 7,
     "metadata": {},
     "output_type": "execute_result"
    }
   ],
   "source": [
    "IBMQ.backends()"
   ]
  },
  {
   "cell_type": "markdown",
   "metadata": {},
   "source": [
    "see which one is the least busy:"
   ]
  },
  {
   "cell_type": "code",
   "execution_count": 8,
   "metadata": {},
   "outputs": [
    {
     "data": {
      "text/plain": [
       "<IBMQBackend('ibmqx4') from IBMQ()>"
      ]
     },
     "execution_count": 8,
     "metadata": {},
     "output_type": "execute_result"
    }
   ],
   "source": [
    "from qiskit.providers.ibmq import least_busy\n",
    "\n",
    "small_devices = IBMQ.backends(filters=lambda x: x.configuration().n_qubits == 5 and\n",
    "                                                       not x.configuration().simulator)\n",
    "least_busy(small_devices)"
   ]
  },
  {
   "cell_type": "markdown",
   "metadata": {},
   "source": [
    "OK lets use that!"
   ]
  },
  {
   "cell_type": "code",
   "execution_count": 19,
   "metadata": {},
   "outputs": [
    {
     "name": "stdout",
     "output_type": "stream",
     "text": [
      "ibmqx4\n",
      "BackendStatus(backend_name='ibmqx4', backend_version='1.0.0', operational=True, pending_jobs=1, status_msg='active')\n"
     ]
    }
   ],
   "source": [
    "backend = IBMQ.get_backend('ibmqx4')\n",
    "print(backend.name())\n",
    "print(backend.status())"
   ]
  },
  {
   "cell_type": "markdown",
   "metadata": {},
   "source": [
    "OK lets build the circuit:"
   ]
  },
  {
   "cell_type": "code",
   "execution_count": 38,
   "metadata": {},
   "outputs": [
    {
     "data": {
      "application/vnd.jupyter.widget-view+json": {
       "model_id": "b6bc5cf4b4434434bdabed6911bacf7d",
       "version_major": 2,
       "version_minor": 0
      },
      "text/plain": [
       "HTML(value=\"<p style='font-size:16px;'>Job Status: job is being initialized </p>\")"
      ]
     },
     "metadata": {},
     "output_type": "display_data"
    }
   ],
   "source": [
    "# Build Circuit\n",
    "q = QuantumRegister(3)\n",
    "c = ClassicalRegister(3)\n",
    "qc = QuantumCircuit(q, c)\n",
    "qc.h(q[0])\n",
    "qc.cx(q[0], q[1])\n",
    "qc.cx(q[0], q[2])\n",
    "\n",
    "# #local operations\n",
    "qc.h(q[0])\n",
    "qc.h(q[1])\n",
    "qc.h(q[2])\n",
    "qc.s(q[0])\n",
    "qc.s(q[1])\n",
    "qc.s(q[2])\n",
    "\n",
    "# # # Measurement 1\n",
    "# qc.barrier()\n",
    "# qc.z(q[0])\n",
    "# qc.z(q[1])\n",
    "# qc.z(q[2])\n",
    "\n",
    "# # # Measurement 2\n",
    "# qc.barrier()\n",
    "# qc.z(q[0])\n",
    "# qc.h(q[1])\n",
    "# qc.h(q[2])\n",
    "\n",
    "# # Measurement 3\n",
    "# qc.barrier()\n",
    "# qc.h(q[0])\n",
    "# qc.z(q[1])\n",
    "# qc.h(q[2])\n",
    "\n",
    "# Measurement 4\n",
    "qc.barrier()\n",
    "qc.h(q[0])\n",
    "qc.h(q[1])\n",
    "qc.z(q[2])\n",
    "\n",
    "qc.measure(q, c)\n",
    "\n",
    "job4 = execute(qc, backend)\n",
    "job_monitor(job4, monitor_async=True)"
   ]
  },
  {
   "cell_type": "code",
   "execution_count": 12,
   "metadata": {},
   "outputs": [
    {
     "data": {
      "text/plain": [
       "<qiskit.providers.ibmq.ibmqjob.IBMQJob at 0x12be61668>"
      ]
     },
     "execution_count": 12,
     "metadata": {},
     "output_type": "execute_result"
    }
   ],
   "source": [
    "job"
   ]
  },
  {
   "cell_type": "markdown",
   "metadata": {},
   "source": [
    "#### Measurement 1 (ZZZ)"
   ]
  },
  {
   "cell_type": "code",
   "execution_count": 32,
   "metadata": {},
   "outputs": [
    {
     "name": "stdout",
     "output_type": "stream",
     "text": [
      "{'001': 60, '111': 11, '101': 195, '110': 188, '100': 85, '010': 60, '011': 173, '000': 252}\n",
      "win count = 808\n"
     ]
    },
    {
     "data": {
      "image/png": "[encoded data removed]",
      "text/plain": [
       "<Figure size 504x360 with 1 Axes>"
      ]
     },
     "execution_count": 32,
     "metadata": {},
     "output_type": "execute_result"
    }
   ],
   "source": [
    "result1 = job1.result()\n",
    "counts = result1.get_counts()\n",
    "print(counts)\n",
    "win_ct_1 = counts['000']+counts['011']+counts['101']+counts['110']\n",
    "print('win count = {}'.format(win_ct_1))\n",
    "plot_histogram(counts)"
   ]
  },
  {
   "cell_type": "markdown",
   "metadata": {},
   "source": [
    "#### Measurement 2 (ZHH)"
   ]
  },
  {
   "cell_type": "code",
   "execution_count": 34,
   "metadata": {},
   "outputs": [
    {
     "name": "stdout",
     "output_type": "stream",
     "text": [
      "{'001': 195, '111': 160, '101': 66, '110': 52, '100': 246, '010': 174, '011': 36, '000': 95}\n",
      "win count = 775\n"
     ]
    },
    {
     "data": {
      "image/png": "[encoded data removed]",
      "text/plain": [
       "<Figure size 504x360 with 1 Axes>"
      ]
     },
     "execution_count": 34,
     "metadata": {},
     "output_type": "execute_result"
    }
   ],
   "source": [
    "result2 = job2.result()\n",
    "counts = result2.get_counts()\n",
    "print(counts)\n",
    "win_ct_2 = counts['001']+counts['010']+counts['100']+counts['111']\n",
    "print('win count = {}'.format(win_ct_2))\n",
    "plot_histogram(counts)"
   ]
  },
  {
   "cell_type": "markdown",
   "metadata": {},
   "source": [
    "#### Measurement 3 (HZH)"
   ]
  },
  {
   "cell_type": "code",
   "execution_count": 36,
   "metadata": {},
   "outputs": [
    {
     "name": "stdout",
     "output_type": "stream",
     "text": [
      "{'001': 224, '111': 180, '101': 75, '110': 39, '100': 204, '010': 179, '011': 35, '000': 88}\n",
      "win count = 787\n"
     ]
    },
    {
     "data": {
      "image/png": "[encoded data removed]",
      "text/plain": [
       "<Figure size 504x360 with 1 Axes>"
      ]
     },
     "execution_count": 36,
     "metadata": {},
     "output_type": "execute_result"
    }
   ],
   "source": [
    "result3 = job3.result()\n",
    "counts = result3.get_counts()\n",
    "print(counts)\n",
    "win_ct_3 = counts['001']+counts['010']+counts['100']+counts['111']\n",
    "print('win count = {}'.format(win_ct_3))\n",
    "plot_histogram(counts)"
   ]
  },
  {
   "cell_type": "markdown",
   "metadata": {},
   "source": [
    "#### Measurement 4 (ZHH)"
   ]
  },
  {
   "cell_type": "code",
   "execution_count": 39,
   "metadata": {},
   "outputs": [
    {
     "name": "stdout",
     "output_type": "stream",
     "text": [
      "{'001': 233, '111': 161, '101': 61, '110': 44, '100': 208, '010': 188, '011': 47, '000': 82}\n",
      "win count = 787\n"
     ]
    },
    {
     "data": {
      "image/png": "[encoded data removed]",
      "text/plain": [
       "<Figure size 504x360 with 1 Axes>"
      ]
     },
     "execution_count": 39,
     "metadata": {},
     "output_type": "execute_result"
    }
   ],
   "source": [
    "result4 = job4.result()\n",
    "counts = result4.get_counts()\n",
    "print(counts)\n",
    "win_ct_4 = counts['001']+counts['010']+counts['100']+counts['111']\n",
    "print('win count = {}'.format(win_ct_3))\n",
    "plot_histogram(counts)"
   ]
  },
  {
   "cell_type": "markdown",
   "metadata": {},
   "source": [
    "### Are we quantum?"
   ]
  },
  {
   "cell_type": "code",
   "execution_count": 48,
   "metadata": {},
   "outputs": [
    {
     "name": "stdout",
     "output_type": "stream",
     "text": [
      "Win: 0.771484375 +/- 0.013724091135307809\n"
     ]
    }
   ],
   "source": [
    "tot_win_ct = float(win_ct_1+win_ct_2+win_ct_3+win_ct_4)\n",
    "print('Win: {} +/- {}'.format(tot_win_ct/(4*1024), np.sqrt(tot_win_ct)/(4*1024)))"
   ]
  },
  {
   "cell_type": "markdown",
   "metadata": {},
   "source": [
    "Try for entangling to q[2] ? Any better?"
   ]
  },
  {
   "cell_type": "code",
   "execution_count": 51,
   "metadata": {},
   "outputs": [
    {
     "data": {
      "application/vnd.jupyter.widget-view+json": {
       "model_id": "a3f03a2bd0ef4a7893e436bbd4c91723",
       "version_major": 2,
       "version_minor": 0
      },
      "text/plain": [
       "HTML(value=\"<p style='font-size:16px;'>Job Status: job is being initialized </p>\")"
      ]
     },
     "metadata": {},
     "output_type": "display_data"
    }
   ],
   "source": [
    "# Build Circuit\n",
    "q = QuantumRegister(3)\n",
    "c = ClassicalRegister(3)\n",
    "qc = QuantumCircuit(q, c)\n",
    "qc.h(q[2])\n",
    "qc.cx(q[2], q[0])\n",
    "qc.cx(q[2], q[1])\n",
    "\n",
    "# #local operations\n",
    "qc.h(q[0])\n",
    "qc.h(q[1])\n",
    "qc.h(q[2])\n",
    "qc.s(q[0])\n",
    "qc.s(q[1])\n",
    "qc.s(q[2])\n",
    "\n",
    "# # Measurement 1\n",
    "qc.barrier()\n",
    "qc.z(q[0])\n",
    "qc.z(q[1])\n",
    "qc.z(q[2])\n",
    "\n",
    "# # # Measurement 2\n",
    "# qc.barrier()\n",
    "# qc.z(q[0])\n",
    "# qc.h(q[1])\n",
    "# qc.h(q[2])\n",
    "\n",
    "# # Measurement 3\n",
    "# qc.barrier()\n",
    "# qc.h(q[0])\n",
    "# qc.z(q[1])\n",
    "# qc.h(q[2])\n",
    "\n",
    "# # Measurement 4\n",
    "# qc.barrier()\n",
    "# qc.h(q[0])\n",
    "# qc.h(q[1])\n",
    "# qc.z(q[2])\n",
    "\n",
    "qc.measure(q, c)\n",
    "\n",
    "job5 = execute(qc, backend)\n",
    "job_monitor(job5, monitor_async=True)"
   ]
  },
  {
   "cell_type": "code",
   "execution_count": 52,
   "metadata": {},
   "outputs": [
    {
     "name": "stdout",
     "output_type": "stream",
     "text": [
      "{'001': 60, '111': 21, '101': 228, '110': 175, '100': 71, '010': 51, '011': 200, '000': 218}\n",
      "win count = 821\n"
     ]
    },
    {
     "data": {
      "image/png": "[encoded data removed]",
      "text/plain": [
       "<Figure size 504x360 with 1 Axes>"
      ]
     },
     "execution_count": 52,
     "metadata": {},
     "output_type": "execute_result"
    }
   ],
   "source": [
    "result5 = job5.result()\n",
    "counts = result5.get_counts()\n",
    "print(counts)\n",
    "win_ct_5 = counts['000']+counts['011']+counts['101']+counts['110']\n",
    "print('win count = {}'.format(win_ct_5))\n",
    "plot_histogram(counts)"
   ]
  },
  {
   "cell_type": "markdown",
   "metadata": {},
   "source": [
    "Not really no. Final thing to try, the one described on the [IBM Website](https://quantumexperience.ng.bluemix.net/proxy/tutorial/full-user-guide/003-Multiple_Qubits_Gates_and_Entangled_States/003-GHZ_States.html)  "
   ]
  },
  {
   "cell_type": "code",
   "execution_count": 53,
   "metadata": {},
   "outputs": [
    {
     "data": {
      "application/vnd.jupyter.widget-view+json": {
       "model_id": "c856b045471340fbb789fb7b14e5b58d",
       "version_major": 2,
       "version_minor": 0
      },
      "text/plain": [
       "HTML(value=\"<p style='font-size:16px;'>Job Status: job is being initialized </p>\")"
      ]
     },
     "metadata": {},
     "output_type": "display_data"
    }
   ],
   "source": [
    "# Build Circuit\n",
    "q = QuantumRegister(3)\n",
    "c = ClassicalRegister(3)\n",
    "qc = QuantumCircuit(q, c)\n",
    "qc.h(q[0])\n",
    "qc.h(q[1])\n",
    "qc.x(q[2])\n",
    "\n",
    "qc.cx(q[1], q[2])\n",
    "qc.cx(q[0], q[2])\n",
    "\n",
    "# #local operations\n",
    "qc.h(q[0])\n",
    "qc.h(q[1])\n",
    "qc.h(q[2])\n",
    "\n",
    "# # Measurement 1\n",
    "qc.barrier()\n",
    "qc.h(q[0])\n",
    "qc.h(q[1])\n",
    "qc.h(q[2])\n",
    "\n",
    "# # # Measurement 2\n",
    "# qc.barrier()\n",
    "# qc.z(q[0])\n",
    "# qc.h(q[1])\n",
    "# qc.h(q[2])\n",
    "\n",
    "# # Measurement 3\n",
    "# qc.barrier()\n",
    "# qc.h(q[0])\n",
    "# qc.z(q[1])\n",
    "# qc.h(q[2])\n",
    "\n",
    "# # Measurement 4\n",
    "# qc.barrier()\n",
    "# qc.h(q[0])\n",
    "# qc.h(q[1])\n",
    "# qc.z(q[2])\n",
    "\n",
    "qc.measure(q, c)\n",
    "\n",
    "job6 = execute(qc, backend)\n",
    "job_monitor(job6, monitor_async=True)"
   ]
  },
  {
   "cell_type": "code",
   "execution_count": 55,
   "metadata": {},
   "outputs": [
    {
     "name": "stdout",
     "output_type": "stream",
     "text": [
      "{'001': 198, '111': 166, '101': 70, '110': 41, '100': 219, '010': 219, '011': 32, '000': 79}\n",
      "win count = 802\n"
     ]
    },
    {
     "data": {
      "image/png": "[encoded data removed]",
      "text/plain": [
       "<Figure size 504x360 with 1 Axes>"
      ]
     },
     "execution_count": 55,
     "metadata": {},
     "output_type": "execute_result"
    }
   ],
   "source": [
    "result6 = job6.result()\n",
    "counts = result6.get_counts()\n",
    "print(counts)\n",
    "win_ct_6 = counts['001']+counts['010']+counts['100']+counts['111']\n",
    "print('win count = {}'.format(win_ct_6))\n",
    "plot_histogram(counts)"
   ]
  },
  {
   "cell_type": "markdown",
   "metadata": {},
   "source": [
    "No better.... interesting to understand where the error comes from!"
   ]
  },
  {
   "cell_type": "code",
   "execution_count": null,
   "metadata": {},
   "outputs": [],
   "source": []
  }
 ],
 "metadata": {
  "kernelspec": {
   "display_name": "Python 3",
   "language": "python",
   "name": "python3"
  },
  "language_info": {
   "codemirror_mode": {
    "name": "ipython",
    "version": 3
   },
   "file_extension": ".py",
   "mimetype": "text/x-python",
   "name": "python",
   "nbconvert_exporter": "python",
   "pygments_lexer": "ipython3",
   "version": "3.7.1"
  }
 },
 "nbformat": 4,
 "nbformat_minor": 2
}
