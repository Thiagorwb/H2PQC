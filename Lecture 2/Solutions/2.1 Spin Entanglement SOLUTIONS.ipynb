{
 "cells": [
  {
   "cell_type": "markdown",
   "metadata": {},
   "source": [
    "# 2.1 Entangling Two Remote Spins\n",
    "\n",
    "In this notebook we look at a protocol to entangle two remote spins."
   ]
  },
  {
   "cell_type": "code",
   "execution_count": 1,
   "metadata": {},
   "outputs": [
    {
     "name": "stderr",
     "output_type": "stream",
     "text": [
      "/Users/jacquescarolan/anaconda2/envs/Qiskitenv/lib/python3.7/site-packages/marshmallow/schema.py:364: ChangedInMarshmallow3Warning: strict=False is not recommended. In marshmallow 3.0, schemas will always be strict. See https://marshmallow.readthedocs.io/en/latest/upgrading.html#schemas-are-always-strict\n",
      "  ChangedInMarshmallow3Warning\n"
     ]
    }
   ],
   "source": [
    "from qiskit import QuantumRegister, ClassicalRegister\n",
    "from qiskit import QuantumCircuit, Aer, execute, BasicAer\n",
    "from qiskit.tools.visualization import plot_histogram\n",
    "\n",
    "import matplotlib.pyplot as plt\n",
    "import numpy as np\n",
    "from numpy import pi"
   ]
  },
  {
   "cell_type": "markdown",
   "metadata": {},
   "source": [
    "Initialize the registers:"
   ]
  },
  {
   "cell_type": "code",
   "execution_count": 2,
   "metadata": {},
   "outputs": [],
   "source": [
    "# Initialize Alice registers\n",
    "q_alice_spin = QuantumRegister(1, 'q_alice_spin')\n",
    "q_alice_photon = QuantumRegister(1, 'q_alice_photon')\n",
    "c_alice_spin = ClassicalRegister(1, 'c_alice_spin')\n",
    "c_alice_photon = ClassicalRegister(1, 'c_alice_photon')\n",
    "\n",
    "# Build Alices Quantum Circuit\n",
    "qc_alice = QuantumCircuit(q_alice_spin, q_alice_photon, c_alice_spin, c_alice_photon)\n",
    "\n",
    "# Initialize Bob registers\n",
    "q_bob_spin = QuantumRegister(1, 'q_bob_spin')\n",
    "q_bob_photon = QuantumRegister(1, 'q_bob_photon')\n",
    "c_bob_spin = ClassicalRegister(1, 'c_bob_spin')\n",
    "c_bob_photon = ClassicalRegister(1, 'c_bob_photon')\n",
    "\n",
    "# Build Bobs Quantum Circuit\n",
    "qc_bob = QuantumCircuit(q_bob_spin, q_bob_photon, c_bob_spin, c_bob_photon)"
   ]
  },
  {
   "cell_type": "markdown",
   "metadata": {},
   "source": [
    "Perform the operations:"
   ]
  },
  {
   "cell_type": "code",
   "execution_count": 3,
   "metadata": {},
   "outputs": [
    {
     "data": {
      "text/html": [
       "<pre style=\"word-wrap: normal;white-space: pre;line-height: 15px;\">                               ┌───┐                ░ \n",
       "  q_alice_spin_0: |0>──────────┤ H ├──■─────────────░─\n",
       "                               └───┘┌─┴─┐┌───┐      ░ \n",
       "q_alice_photon_0: |0>───────────────┤ X ├┤ X ├──────░─\n",
       "                     ┌───┐          └───┘└─┬─┘      ░ \n",
       "    q_bob_spin_0: |0>┤ H ├──■──────────────┼────────░─\n",
       "                     └───┘┌─┴─┐            │  ┌───┐ ░ \n",
       "  q_bob_photon_0: |0>─────┤ X ├────────────■──┤ H ├─░─\n",
       "                          └───┘               └───┘ ░ \n",
       "   c_alice_spin_0: 0 ═════════════════════════════════\n",
       "                                                      \n",
       " c_alice_photon_0: 0 ═════════════════════════════════\n",
       "                                                      \n",
       "     c_bob_spin_0: 0 ═════════════════════════════════\n",
       "                                                      \n",
       "   c_bob_photon_0: 0 ═════════════════════════════════\n",
       "                                                      </pre>"
      ],
      "text/plain": [
       "<qiskit.tools.visualization._text.TextDrawing at 0x12b9e2eb8>"
      ]
     },
     "execution_count": 3,
     "metadata": {},
     "output_type": "execute_result"
    }
   ],
   "source": [
    "# Alices Opertaions, HINT: you can call each qubit via e.g. q_alice_spin[0] in Alices and Bobs seperate quantum circuits\n",
    "qc_alice.h(q_alice_spin[0])\n",
    "qc_alice.cx(q_alice_spin[0], q_alice_photon[0])\n",
    "\n",
    "# Bobs Operations\n",
    "qc_bob.h(q_bob_spin[0])\n",
    "qc_bob.cx(q_bob_spin[0], q_bob_photon[0])\n",
    "\n",
    "# join alice and bobs circuits together (HINT: you can use plain old '+' for this)\n",
    "qc = qc_alice + qc_bob\n",
    "  \n",
    "\n",
    "# CX between photons\n",
    "qc.cx(q_bob_photon[0], q_alice_photon[0])\n",
    "# Hadmard Alices photon\n",
    "qc.h(q_bob_photon[0])\n",
    "\n",
    "# Draw just to check\n",
    "qc.barrier()\n",
    "qc.draw()"
   ]
  },
  {
   "cell_type": "markdown",
   "metadata": {},
   "source": [
    "Make measurements:"
   ]
  },
  {
   "cell_type": "code",
   "execution_count": 4,
   "metadata": {},
   "outputs": [
    {
     "data": {
      "text/html": [
       "<pre style=\"word-wrap: normal;white-space: pre;line-height: 15px;\">                               ┌───┐                ░          ┌─┐\n",
       "  q_alice_spin_0: |0>──────────┤ H ├──■─────────────░──────────┤M├\n",
       "                               └───┘┌─┴─┐┌───┐      ░       ┌─┐└╥┘\n",
       "q_alice_photon_0: |0>───────────────┤ X ├┤ X ├──────░───────┤M├─╫─\n",
       "                     ┌───┐          └───┘└─┬─┘      ░    ┌─┐└╥┘ ║ \n",
       "    q_bob_spin_0: |0>┤ H ├──■──────────────┼────────░────┤M├─╫──╫─\n",
       "                     └───┘┌─┴─┐            │  ┌───┐ ░ ┌─┐└╥┘ ║  ║ \n",
       "  q_bob_photon_0: |0>─────┤ X ├────────────■──┤ H ├─░─┤M├─╫──╫──╫─\n",
       "                          └───┘               └───┘ ░ └╥┘ ║  ║  ║ \n",
       "   c_alice_spin_0: 0 ══════════════════════════════════╬══╬══╬══╩═\n",
       "                                                       ║  ║  ║    \n",
       " c_alice_photon_0: 0 ══════════════════════════════════╬══╬══╩════\n",
       "                                                       ║  ║       \n",
       "     c_bob_spin_0: 0 ══════════════════════════════════╬══╩═══════\n",
       "                                                       ║          \n",
       "   c_bob_photon_0: 0 ══════════════════════════════════╩══════════\n",
       "                                                                  </pre>"
      ],
      "text/plain": [
       "<qiskit.tools.visualization._text.TextDrawing at 0x12b9e24e0>"
      ]
     },
     "execution_count": 4,
     "metadata": {},
     "output_type": "execute_result"
    }
   ],
   "source": [
    "qc.measure(q_alice_spin[0], c_alice_spin[0])\n",
    "qc.measure(q_alice_photon[0], c_alice_photon[0])\n",
    "qc.measure(q_bob_spin[0], c_bob_spin[0])\n",
    "qc.measure(q_bob_photon[0], c_bob_photon[0])\n",
    "\n",
    "qc.draw()"
   ]
  },
  {
   "cell_type": "markdown",
   "metadata": {},
   "source": [
    "Lets look at the counts:"
   ]
  },
  {
   "cell_type": "code",
   "execution_count": 5,
   "metadata": {},
   "outputs": [
    {
     "name": "stdout",
     "output_type": "stream",
     "text": [
      "{'0 0 0 0': 151, '1 0 0 0': 134, '0 1 1 0': 121, '1 1 1 0': 129, '0 1 0 1': 107, '0 0 1 1': 124, '1 0 1 1': 127, '1 1 0 1': 131}\n"
     ]
    },
    {
     "name": "stderr",
     "output_type": "stream",
     "text": [
      "/Users/jacquescarolan/anaconda2/envs/Qiskitenv/lib/python3.7/site-packages/marshmallow/schema.py:364: ChangedInMarshmallow3Warning: strict=False is not recommended. In marshmallow 3.0, schemas will always be strict. See https://marshmallow.readthedocs.io/en/latest/upgrading.html#schemas-are-always-strict\n",
      "  ChangedInMarshmallow3Warning\n"
     ]
    },
    {
     "data": {
      "image/png": "[encoded data removed]",
      "text/plain": [
       "<Figure size 504x360 with 1 Axes>"
      ]
     },
     "execution_count": 5,
     "metadata": {},
     "output_type": "execute_result"
    }
   ],
   "source": [
    "# Load backend QasmSimulator and run the job\n",
    "backend = BasicAer.get_backend('qasm_simulator')\n",
    "\n",
    "# select the number of shots (repeats) of the experiment, and run the job\n",
    "\n",
    "job = execute(qc, backend, shots=1024)\n",
    "result = job.result()\n",
    "\n",
    "# get the counts (how many events in each bin)\n",
    "counts = result.get_counts(qc)\n",
    "print(counts)\n",
    "\n",
    "# plot\n",
    "plot_histogram(counts)"
   ]
  },
  {
   "cell_type": "markdown",
   "metadata": {},
   "source": [
    "Basis goes {Bobs Photon, Bobs Spin, Alices Photon, Alices Spin}"
   ]
  },
  {
   "cell_type": "code",
   "execution_count": null,
   "metadata": {},
   "outputs": [],
   "source": []
  }
 ],
 "metadata": {
  "kernelspec": {
   "display_name": "Python 3",
   "language": "python",
   "name": "python3"
  },
  "language_info": {
   "codemirror_mode": {
    "name": "ipython",
    "version": 3
   },
   "file_extension": ".py",
   "mimetype": "text/x-python",
   "name": "python",
   "nbconvert_exporter": "python",
   "pygments_lexer": "ipython3",
   "version": "3.7.1"
  }
 },
 "nbformat": 4,
 "nbformat_minor": 2
}
