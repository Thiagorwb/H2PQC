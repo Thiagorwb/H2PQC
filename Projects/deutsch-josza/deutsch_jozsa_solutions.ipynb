{
 "cells": [
  {
   "cell_type": "markdown",
   "metadata": {},
   "source": [
    "<img src=\"../../images/qiskit-heading.gif\" alt=\"Note: In order for images to show up in this jupyter notebook you need to select File => Trusted Notebook\" width=\"500 px\" align=\"left\">"
   ]
  },
  {
   "cell_type": "markdown",
   "metadata": {},
   "source": [
    "## _*The Deutsch-Jozsa Algorithm*_ \n",
    "\n",
    "The [Deutsch-Jozsa algorithm](http://rspa.royalsocietypublishing.org/content/439/1907/553) is one of the earliest examples demonstrating the power of quantum computers. Suppose Alice has a Boolean function, i.e. a function $f(x)$ that outputs either $0$ or $1$ for every input $x$. This function is called the \"oracle\". Furthermore, Alice promises that her function is either balanced, i.e. half of the possible inputs give $0$ and the other half give $1$, or constant, i.e. every input gives the same output. Alice has a friend Bob whose goal is to determine which type of function Alice has. To do so, he can send Alice inputs and record the output.\n",
    "\n",
    "Classically, in the best case, two queries to the oracle can determine if the hidden Boolean function is balanced; in the worst case, at least half of the inputs must be queried to determine if the hidden Boolean function is constant for all inputs. However, using quantum mechanics, the Deutsch-Jozsa algorithm can determine the Boolean function with just one query.   \n",
    "\n",
    "***\n",
    "### Notebook Contributors\n",
    "Rudy Raymond, Eric Bersin"
   ]
  },
  {
   "cell_type": "markdown",
   "metadata": {},
   "source": [
    "## The Algorithm\n",
    "\n",
    "Inputs to the oracle are given in binary, in the form of an $n$-bit string. The algorithm can be summarized as follows.\n",
    "1. Prepare two quantum registers. The first is an $n$-qubit reqister that will be used as the input for the oracle. All qubits in this register will be initialized to zero. The second register is a one-qubit register that will be used to store the output of the oracle. This register should be initialized to one:\n",
    "$$\n",
    "|0_{n-1}0_{n-2}0_{n-3}\\ldots 0_0\\rangle |1\\rangle\n",
    "$$\n",
    "2. Create the superposition of all input queries in the first register by applying the Hadamard gate to each qubit (dropping subscripts for visibility):\n",
    "$$\n",
    "H^{\\otimes^n} |0\\ldots 0\\rangle |1\\rangle = \\frac{1}{\\sqrt{2^n}}\\sum_{i=0}^{2^n-1}|i\\rangle |1\\rangle \n",
    "$$\n",
    "\n",
    "where $|i\\rangle$ is the binary representation of $i$, i.e. $|i=0\\rangle=|0\\ldots 00\\rangle$, $|i=1\\rangle=|0\\ldots 01\\rangle$, $|i=2\\rangle=|0\\ldots 10\\rangle$, etc.\n",
    "3. Apply the Hadamard gate to the second register. This will allow us to store the value of the oracle in phase, which lets us take advantage of an effect known as interference.\n",
    "$$\n",
    "\\frac{1}{\\sqrt{2^n}}\\sum_{i=0}^{2^n-1}|i\\rangle |1\\rangle \\rightarrow \\frac{1}{\\sqrt{2^{n+1}}}\\sum_{i=0}^{2^n-1}|i\\rangle ( |0\\rangle - |1\\rangle )\n",
    "$$\n",
    "4. Feed the input register to the oracle, flipping the sign of each $|i\\rangle$ state conditioned on the output of $f(i)$:\n",
    "$$\n",
    "\\frac{1}{\\sqrt{2^{n+1}}}\\sum_{i=0}^{2^n-1}|i\\rangle ( |0\\rangle - |1\\rangle ) \\rightarrow \\frac{1}{\\sqrt{2^{n+1}}}\\sum_{i=0}^{2^n-1}(-1)^{f(i)}|i\\rangle ( |0\\rangle - |1\\rangle ) \n",
    "$$\n",
    "5. Apply the Hadamard gate to the first register\n",
    "\n",
    "6. Measure the first register. If if is zero (i.e. if it is the binary $|000....0\\rangle$), then we conclude that the oracle function is constant. If it is non-zero, then we conclude that the oracle function is balanced.\n",
    "\n",
    "We will see how this works in the following implementation."
   ]
  },
  {
   "cell_type": "markdown",
   "metadata": {},
   "source": [
    "## Implementation\n",
    "\n",
    "We now implement the Deutsch-Jozsa algorithm with Qiskit.\n",
    "\n",
    "First, prepare the environment as done in previous notebooks."
   ]
  },
  {
   "cell_type": "code",
   "execution_count": 1,
   "metadata": {
    "ExecuteTime": {
     "end_time": "2018-09-26T15:39:22.130660Z",
     "start_time": "2018-09-26T15:39:20.490197Z"
    }
   },
   "outputs": [
    {
     "name": "stderr",
     "output_type": "stream",
     "text": [
      "/anaconda3/envs/Qiskitenv/lib/python3.7/site-packages/marshmallow/schema.py:364: ChangedInMarshmallow3Warning: strict=False is not recommended. In marshmallow 3.0, schemas will always be strict. See https://marshmallow.readthedocs.io/en/latest/upgrading.html#schemas-are-always-strict\n",
      "  ChangedInMarshmallow3Warning\n"
     ]
    }
   ],
   "source": [
    "# import Qiskit\n",
    "from qiskit import BasicAer, IBMQ\n",
    "from qiskit import QuantumCircuit, ClassicalRegister, QuantumRegister\n",
    "from qiskit import execute, compile\n",
    "from qiskit.tools.monitor import job_monitor\n",
    "\n",
    "# import useful additional packages \n",
    "import numpy as np\n",
    "import matplotlib.pyplot as plt\n",
    "%matplotlib inline\n",
    "\n",
    "# import basic plot tools\n",
    "from qiskit.tools.visualization import plot_histogram"
   ]
  },
  {
   "cell_type": "markdown",
   "metadata": {},
   "source": [
    "Next, create the necessary quantum and classical registers."
   ]
  },
  {
   "cell_type": "code",
   "execution_count": 2,
   "metadata": {
    "ExecuteTime": {
     "end_time": "2018-09-26T15:39:24.251778Z",
     "start_time": "2018-09-26T15:39:24.247587Z"
    }
   },
   "outputs": [],
   "source": [
    "# Create n+1 quantum registers and n classical registers\n",
    "n = 4 # the length of the first register for querying the oracle \n",
    "\n",
    "# Creating registers\n",
    "# n qubits for querying the oracle and one qubit for storing the answer\n",
    "qr = QuantumRegister(n+1) #all qubits are initialized to zero\n",
    "# b classical registers for recording the measurement on the first quantum register\n",
    "cr = ClassicalRegister(n)"
   ]
  },
  {
   "cell_type": "markdown",
   "metadata": {},
   "source": [
    "Create a circuit for running the Deutsch-Jozsa algorithm. First, perform initialize the qubits and perform the Hadamard gates that run before the application of the oracle function. Place a barrier at the end to demarcate the beginning of the oracle."
   ]
  },
  {
   "cell_type": "code",
   "execution_count": 3,
   "metadata": {},
   "outputs": [],
   "source": [
    "# Create the circuit and initialize the states\n",
    "circuit = QuantumCircuit(qr, cr)\n",
    "\n",
    "# the default initialization is to have all qubits in |0>; perform an X gate \n",
    "# on the storage qubit to initialize to the correct starting state\n",
    "circuit.x(qr[n])\n",
    "\n",
    "# Perform all necessary Hadamard gates\n",
    "# Create the superposition of all input queries in the first register by applying the Hadamard gate to each qubit.\n",
    "for i in range(n):\n",
    "    circuit.h(qr[i])\n",
    "    \n",
    "# Apply the Hadamard gate to the storage qubit\n",
    "circuit.h(qr[n])\n",
    "    \n",
    "# Apply barrier to mark the beginning of the oracle\n",
    "circuit.barrier();"
   ]
  },
  {
   "cell_type": "markdown",
   "metadata": {},
   "source": [
    "### Constant Oracle\n",
    "\n",
    "Next, we apply the oracle. First, let's choose Alice to have a constant oracle; this should either apply the identity $(-1)^0$ or invert $(-1)^1$ every state. Place a barrier at the end to demarcate the end of the oracle."
   ]
  },
  {
   "cell_type": "code",
   "execution_count": 4,
   "metadata": {},
   "outputs": [],
   "source": [
    "# ORACLE\n",
    "# Choose a constant oracle output 0 or 1; based on that, either apply the identity or flip every term in the state\n",
    "oracleOutput = 0;\n",
    "\n",
    "#if the output is constant 1, all states get a (-1) factor\n",
    "if oracleOutput == 1:\n",
    "    # Note that since the nth qubit is in the state |0>-|1>, performing the X gate on it is \n",
    "    # equivalent to multiplying every term in the state by -1\n",
    "    circuit.x(qr[n]) \n",
    "else:\n",
    "    for i in range(n):\n",
    "        circuit.iden(qr[i])\n",
    "\n",
    "# Apply barrier to mark the end of the oracle\n",
    "circuit.barrier();"
   ]
  },
  {
   "cell_type": "markdown",
   "metadata": {},
   "source": [
    "Lastly, perform Hadamard gates on all of the query qubits and measure their final values."
   ]
  },
  {
   "cell_type": "code",
   "execution_count": 5,
   "metadata": {},
   "outputs": [],
   "source": [
    "# Apply Hadamard gates\n",
    "for i in range(n):\n",
    "    circuit.h(qr[i])\n",
    "    \n",
    "# Measurement using the classical registers\n",
    "for i in range(n):\n",
    "    circuit.measure(qr[i], cr[i]);"
   ]
  },
  {
   "cell_type": "markdown",
   "metadata": {},
   "source": [
    "Draw the circuit to verify that it is doing what it's supposed to be doing!"
   ]
  },
  {
   "cell_type": "code",
   "execution_count": 6,
   "metadata": {},
   "outputs": [
    {
     "data": {
      "text/html": [
       "<pre style=\"word-wrap: normal;white-space: pre;line-height: 15px;\">                                  ┌───┐ ░                   ┌────┐ ░         »\n",
       "q0_0: |0>─────────────────────────┤ H ├─░───────────────────┤ Id ├─░─────────»\n",
       "                             ┌───┐└───┘ ░             ┌────┐└────┘ ░         »\n",
       "q0_1: |0>────────────────────┤ H ├──────░─────────────┤ Id ├───────░─────────»\n",
       "                        ┌───┐└───┘      ░       ┌────┐└────┘       ░         »\n",
       "q0_2: |0>───────────────┤ H ├───────────░───────┤ Id ├─────────────░─────────»\n",
       "                   ┌───┐└───┘           ░ ┌────┐└────┘             ░ ┌───┐┌─┐»\n",
       "q0_3: |0>──────────┤ H ├────────────────░─┤ Id ├───────────────────░─┤ H ├┤M├»\n",
       "         ┌───┐┌───┐└───┘                ░ └────┘                   ░ └───┘└╥┘»\n",
       "q0_4: |0>┤ X ├┤ H ├─────────────────────░──────────────────────────░───────╫─»\n",
       "         └───┘└───┘                     ░                          ░       ║ »\n",
       " c0_0: 0 ══════════════════════════════════════════════════════════════════╬═»\n",
       "                                                                           ║ »\n",
       " c0_1: 0 ══════════════════════════════════════════════════════════════════╬═»\n",
       "                                                                           ║ »\n",
       " c0_2: 0 ══════════════════════════════════════════════════════════════════╬═»\n",
       "                                                                           ║ »\n",
       " c0_3: 0 ══════════════════════════════════════════════════════════════════╩═»\n",
       "                                                                             »\n",
       "«                      ┌───┐┌─┐\n",
       "«q0_0: ────────────────┤ H ├┤M├\n",
       "«              ┌───┐┌─┐└───┘└╥┘\n",
       "«q0_1: ────────┤ H ├┤M├──────╫─\n",
       "«      ┌───┐┌─┐└───┘└╥┘      ║ \n",
       "«q0_2: ┤ H ├┤M├──────╫───────╫─\n",
       "«      └───┘└╥┘      ║       ║ \n",
       "«q0_3: ──────╫───────╫───────╫─\n",
       "«            ║       ║       ║ \n",
       "«q0_4: ──────╫───────╫───────╫─\n",
       "«            ║       ║       ║ \n",
       "«c0_0: ══════╬═══════╬═══════╩═\n",
       "«            ║       ║         \n",
       "«c0_1: ══════╬═══════╩═════════\n",
       "«            ║                 \n",
       "«c0_2: ══════╩═════════════════\n",
       "«                              \n",
       "«c0_3: ════════════════════════\n",
       "«                              </pre>"
      ],
      "text/plain": [
       "<qiskit.tools.visualization._text.TextDrawing at 0x126daadd8>"
      ]
     },
     "execution_count": 6,
     "metadata": {},
     "output_type": "execute_result"
    }
   ],
   "source": [
    "# Draw the circuit to verify that it looks correct\n",
    "circuit.draw()"
   ]
  },
  {
   "cell_type": "markdown",
   "metadata": {},
   "source": [
    "Run the circuit using the simulator."
   ]
  },
  {
   "cell_type": "code",
   "execution_count": 7,
   "metadata": {},
   "outputs": [],
   "source": [
    "# Choose a backend, choose a number of trials (shots), and execute the job\n",
    "backend = BasicAer.get_backend('qasm_simulator')\n",
    "shots = 1000\n",
    "job = execute(circuit, backend=backend, shots=shots);"
   ]
  },
  {
   "cell_type": "markdown",
   "metadata": {},
   "source": [
    "Plot a histogram of the final states to verify that the output is as expected."
   ]
  },
  {
   "cell_type": "code",
   "execution_count": 8,
   "metadata": {},
   "outputs": [
    {
     "name": "stderr",
     "output_type": "stream",
     "text": [
      "/anaconda3/envs/Qiskitenv/lib/python3.7/site-packages/marshmallow/schema.py:364: ChangedInMarshmallow3Warning: strict=False is not recommended. In marshmallow 3.0, schemas will always be strict. See https://marshmallow.readthedocs.io/en/latest/upgrading.html#schemas-are-always-strict\n",
      "  ChangedInMarshmallow3Warning\n"
     ]
    },
    {
     "data": {
      "image/png": "[encoded data removed]",
      "text/plain": [
       "<Figure size 504x360 with 1 Axes>"
      ]
     },
     "execution_count": 8,
     "metadata": {},
     "output_type": "execute_result"
    }
   ],
   "source": [
    "# Grab the result of the job, get the answers from all of the trials, and plot a histogram\n",
    "results = job.result() \n",
    "answer = results.get_counts()\n",
    "plot_histogram(answer)"
   ]
  },
  {
   "cell_type": "markdown",
   "metadata": {},
   "source": [
    "### Balanced Oracle\n",
    "\n",
    "Next, repeat the process, but this time with an oracle that is balanced. It's a bit tricky to figure out the circuit representation of such an oracle, so here's a hint: given that the \"storage\" qubit is in the $|-\\rangle$ state, can you think of a gate that will flip exactly half of the terms in our state?\n",
    "\n",
    "Once you figure that out, what happens if next you apply the same gate, but another randomly selected half of the terms?"
   ]
  },
  {
   "cell_type": "code",
   "execution_count": 9,
   "metadata": {},
   "outputs": [
    {
     "data": {
      "text/html": [
       "<pre style=\"word-wrap: normal;white-space: pre;line-height: 15px;\">                                  ┌───┐ ░                 ░                 »\n",
       "q0_0: |0>─────────────────────────┤ H ├─░─────────────────░─────────────────»\n",
       "                             ┌───┐└───┘ ░                 ░                 »\n",
       "q0_1: |0>────────────────────┤ H ├──────░───■─────────────░─────────────────»\n",
       "                        ┌───┐└───┘      ░   │             ░         ┌───┐┌─┐»\n",
       "q0_2: |0>───────────────┤ H ├───────────░───┼────■────────░─────────┤ H ├┤M├»\n",
       "                   ┌───┐└───┘           ░   │    │        ░ ┌───┐┌─┐└───┘└╥┘»\n",
       "q0_3: |0>──────────┤ H ├────────────────░───┼────┼────■───░─┤ H ├┤M├──────╫─»\n",
       "         ┌───┐┌───┐└───┘                ░ ┌─┴─┐┌─┴─┐┌─┴─┐ ░ └───┘└╥┘      ║ »\n",
       "q0_4: |0>┤ X ├┤ H ├─────────────────────░─┤ X ├┤ X ├┤ X ├─░───────╫───────╫─»\n",
       "         └───┘└───┘                     ░ └───┘└───┘└───┘ ░       ║       ║ »\n",
       " c0_0: 0 ═════════════════════════════════════════════════════════╬═══════╬═»\n",
       "                                                                  ║       ║ »\n",
       " c0_1: 0 ═════════════════════════════════════════════════════════╬═══════╬═»\n",
       "                                                                  ║       ║ »\n",
       " c0_2: 0 ═════════════════════════════════════════════════════════╬═══════╩═»\n",
       "                                                                  ║         »\n",
       " c0_3: 0 ═════════════════════════════════════════════════════════╩═════════»\n",
       "                                                                            »\n",
       "«              ┌───┐┌─┐\n",
       "«q0_0: ────────┤ H ├┤M├\n",
       "«      ┌───┐┌─┐└───┘└╥┘\n",
       "«q0_1: ┤ H ├┤M├──────╫─\n",
       "«      └───┘└╥┘      ║ \n",
       "«q0_2: ──────╫───────╫─\n",
       "«            ║       ║ \n",
       "«q0_3: ──────╫───────╫─\n",
       "«            ║       ║ \n",
       "«q0_4: ──────╫───────╫─\n",
       "«            ║       ║ \n",
       "«c0_0: ══════╬═══════╩═\n",
       "«            ║         \n",
       "«c0_1: ══════╩═════════\n",
       "«                      \n",
       "«c0_2: ════════════════\n",
       "«                      \n",
       "«c0_3: ════════════════\n",
       "«                      </pre>"
      ],
      "text/plain": [
       "<qiskit.tools.visualization._text.TextDrawing at 0x126e16470>"
      ]
     },
     "execution_count": 9,
     "metadata": {},
     "output_type": "execute_result"
    }
   ],
   "source": [
    "# Create the circuit, initialize the qubits, and apply the Hadamard gates\n",
    "circuit = QuantumCircuit(qr, cr)\n",
    "circuit.x(qr[n])\n",
    "for i in range(n):\n",
    "    circuit.h(qr[i])\n",
    "\n",
    "circuit.h(qr[n])\n",
    "circuit.barrier()\n",
    "\n",
    "# ORACLE\n",
    "# Apply a gate that will flip exactly half of the terms in our state\n",
    "\n",
    "# Since the storage qubit is in |->, if we apply a CX where the control is a query bit and the X is applied to\n",
    "# the storage bit, we will flip exactly half our states! In fact, if we continue to apply CX gates on the storage\n",
    "# bit but using other query bits as our control, we find that this continues to be the case, as each time a \n",
    "# different half of terms is flipped. This allows for generation of an arbitrary balanced oracle. In our case, \n",
    "# we make a random parameter that will determine how many CX's get applied, and on which bits; as long as\n",
    "# at least one CX is applied, this process will correspond to a balanced oracle\n",
    "a = np.random.randint(1,2**n) \n",
    "for i in range(n):\n",
    "    if (a & (1 << i)):\n",
    "        circuit.cx(qr[i], qr[n])              \n",
    "circuit.barrier()\n",
    "\n",
    "# Apply the final Hadamard gates\n",
    "for i in range(n):\n",
    "    circuit.h(qr[i])\n",
    "\n",
    "# Measure the final states\n",
    "for i in range(n):\n",
    "    circuit.measure(qr[i], cr[i])\n",
    "\n",
    "# Draw the circuit\n",
    "circuit.draw()"
   ]
  },
  {
   "cell_type": "code",
   "execution_count": 10,
   "metadata": {},
   "outputs": [
    {
     "data": {
      "image/png": "[encoded data removed]",
      "text/plain": [
       "<Figure size 504x360 with 1 Axes>"
      ]
     },
     "execution_count": 10,
     "metadata": {},
     "output_type": "execute_result"
    }
   ],
   "source": [
    "# Choose backend, choose number of trials, execute job, grab results/counts, and plot\n",
    "backend = BasicAer.get_backend('qasm_simulator')\n",
    "shots = 1000\n",
    "job = execute(circuit, backend=backend, shots=shots)\n",
    "results = job.result() \n",
    "answer = results.get_counts()\n",
    "plot_histogram(answer)"
   ]
  },
  {
   "cell_type": "markdown",
   "metadata": {},
   "source": [
    "What do you notice about the statistical distribution of the final states?"
   ]
  },
  {
   "cell_type": "markdown",
   "metadata": {},
   "source": [
    "This result of this circuit is NOT probabilistic! For a given oracle, we will retrieve the same state each and every time, meaning we only need to run the algorithm once to determine the nature of Alice's hidden function. This is a key facet of quantum computing: while quantum mechanics is inherently probabilistic, a well-designed quantum algorithm will produce a single final state, such that the final measurement is in fact deterministic. This is possible due to the phenomenon of interference, whereby terms in the state will destructively interfere - i.e., positive and negative terms will cancel out - for states that correspond to the wrong answer, and they will positive interfere for states taht correspond to the correct answer."
   ]
  },
  {
   "cell_type": "markdown",
   "metadata": {},
   "source": [
    "Can you garner any intuition about why this works? It's easiest to start by looking at the constant oracle case - what's going on with the circuit that results in the output being $|00...0\\rangle$ no matter what? From there, what changes about the balanced case that guarantees an non-zero output?"
   ]
  },
  {
   "cell_type": "markdown",
   "metadata": {},
   "source": [
    "The magic of the algorithm can be understood as follows:\n",
    "\n",
    "When the hidden oracle function is constant, the quantum states before and after querying the oracle are the same. The inverse of the Hadamard gate is the Hadamard gate itself. Thus, we essentially reverse the first set of Hadamard gates to obtain the initial quantum state of all-zero in the first register.\n",
    "\n",
    "When the hidden oracle function is balanced, the quantum state after querying the oracle is orthogonal to the quantum state before querying the oracle. Thus, when reverting the operation, we must end up with a quantum state that is orthogonal to the initial quantum state of all-zero at the first register. This means we should never obtain the all-zero state."
   ]
  }
 ],
 "metadata": {
  "kernelspec": {
   "display_name": "Python 3",
   "language": "python",
   "name": "python3"
  },
  "language_info": {
   "codemirror_mode": {
    "name": "ipython",
    "version": 3
   },
   "file_extension": ".py",
   "mimetype": "text/x-python",
   "name": "python",
   "nbconvert_exporter": "python",
   "pygments_lexer": "ipython3",
   "version": "3.7.2"
  }
 },
 "nbformat": 4,
 "nbformat_minor": 2
}
