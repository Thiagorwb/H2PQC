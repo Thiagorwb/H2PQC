{
 "cells": [
  {
   "cell_type": "markdown",
   "metadata": {},
   "source": [
    "## Grover Search for Combinatorial Problems\n",
    "\n",
    "\n",
    "Original version : https://github.com/qiskit/qiskit-tutorial, Giacomo Nannicini and Rudy Raymond (based on [this paper](https://arxiv.org/abs/1708.03684)) \n",
    "\n",
    "Modified: Hyeongrak Choi (Chuck, choihr@mit.edu)"
   ]
  },
  {
   "cell_type": "markdown",
   "metadata": {},
   "source": [
    "## Introduction\n",
    "\n",
    "Grover search is one of the most popular algorithms used for searching a solution among many possible candidates using Quantum Computers. If there are $N$ possible solutions among which there is exactly one solution (that can be verified by some function evaluation), then Grover search can be used to find the solution with $O(\\sqrt{N})$ function evaluations. This is in contrast to classical computers that require $\\Omega(N)$ function evaluations: the Grover search is a quantum algorithm that provably can be used search the correct solutions quadratically faster than its classical counterparts.  \n",
    "\n",
    "Here, we are going to illustrate the use of Grover search to solve a combinatorial problem called [Exactly-1 3-SAT problem](https://en.wikipedia.org/wiki/Boolean_satisfiability_problem#Exactly-1_3-satisfiability). The Exactly-1 3-SAT problem is a NP-complete problem, namely, it is one of the most difficult problems that are interconnected (meaning that if we solve any one of them, we essentially can solve all of them). Unfortunately, there are many natural problems that are NP-complete, such as, the Traveling Salesman Problem (TSP), the Maximum Cut (MaxCut) and so on. Up to now, there is no classical and quantum algorithm that can efficiently solve such NP-hard problems. \n",
    "\n",
    "We begin with an example of the Exactly-1 3-SAT problem. Then, we show how to design an evaluation function which is also known as the oracle (or, blackbox) which is essential to Grover search. Finally, we show the circuit of Grover search using the oracle and present their results on simulator and real-device backends."
   ]
  },
  {
   "cell_type": "markdown",
   "metadata": {},
   "source": [
    "## Exactly-1 3-SAT problem\n",
    "\n",
    "The Exactly-1 3-SAT problem is best explained with the following concrete problem. Let us consider a Boolean function $f$ with three Boolean variables $x_1, x_2, x_3$ as below.\n",
    "\n",
    "$$\n",
    "f(x_1, x_2, x_3) = (x_1 \\vee x_2 \\vee \\neg x_3) \\wedge (\\neg x_1 \\vee \\neg x_2 \\vee \\neg x_3) \\wedge (\\neg x_1 \\vee x_2 \\vee x_3) \n",
    "$$\n",
    "\n",
    "In the above function, the terms on the right-hand side equation which are inside $()$ are called clauses. Each clause has exactly three literals. Namely, the first clause has $x_1$, $x_2$ and $\\neg x_3$ as its literals. The symbol $\\neg$ is the Boolean NOT that negates (or, flips) the value of its succeeding literal. The symbols $\\vee$ and $\\wedge$ are, respectively, the Boolean OR and AND. The Boolean $f$ is satisfiable if there is an assignment of $x_1, x_2, x_3$ that evaluates to $f(x_1, x_2, x_3) = 1$ (or, $f$ evaluates to True). The Exactly-1 3-SAT problem requires us to find an assignment such that $f = 1$ (or, True) and there is *exactly* one literal that evaluates to True in every clause of $f$. \n",
    "\n",
    "A naive way to find such an assignment is by trying every possible combinations of input values of $f$. Below is the table obtained from trying all possible combinations of $x_1, x_2, x_3$. For ease of explanation, we interchangably use $0$ and False, as well as $1$ and True.  \n",
    "\n",
    "|$x_1$ | $x_2$ | $x_3$ | $f$ | Comment | \n",
    "|------|-------|-------|-----|---------|\n",
    "| 0    |  0    |  0    |  1  | Not a solution because there are three True literals in the second clause     | \n",
    "| 0    |  0    |  1    |  0  | Not a solution because $f$ is False          | \n",
    "| 0    |  1    |  0    |  1  | Not a solution because there are two True literals in the first clause        | \n",
    "| 0    |  1    |  1    |  1  | Not a solution because there are three True literals in the third clause        | \n",
    "| 1    |  0    |  0    |  0  | Not a solution because $f$ is False        | \n",
    "| 1    |  0    |  1    |  1  | **Solution**. BINGO!!       | \n",
    "| 1    |  1    |  0    |  1  | Not a soluton because there are three True literals in the first clause        | \n",
    "| 1    |  1    |  1    |  0  | Not a solution because $f$ is False        | \n",
    "\n",
    "\n",
    "From the table above, we can see that the assignment $x_1x_2x_3 = 101$ is the solution fo the Exactly-1 3-SAT problem to $f$. In general, the Boolean function $f$ can have many clauses and more Boolean variables. \n",
    "\n",
    "## A blackbox function to check the assignment of Exactly-1 3-SAT problem\n",
    "\n",
    "Here, we describe a method to construct a circuit to check the assignment of Exactly-1 3-SAT problem. The circuit can then be used as a blackbox (or, oracle) in Grover search. To design the blackbox, we do not need to know the solution to the problem in advance: it suffices to design a blackbox that checks if the assignment results in $f$ evaluates to True or False. It turns out that we can design such a blackbox efficiently (in fact, any NP-complete problem has the property that although finding the solution is difficult, checking the solution is easy). \n",
    "\n",
    "For each clause of $f$, we design a sub-circuit that outputs True if and only if there is exactly one True literal in the clause. Combining all sub-circuits for all clauses, we can then obtain the blackbox that outputs True if and only if all clauses are satisfied with exactly one True literal each.   \n",
    "\n",
    "For example, let us consider the clause $(x_1 \\vee \\neg x_2 \\vee x_3)$. It is easy to see that $y$ defined as \n",
    "\n",
    "$$\n",
    "y = x_1 \\oplus \\neg x_2 \\oplus x_3 \\oplus ( x_1 \\wedge \\neg x_2 \\wedge x_3), \n",
    "$$\n",
    "\n",
    "is True if and only if exactly one of $x_1$, $\\neg x_2$, and $x_3$ is True. (Explain yourself why this is the case). Using two working qubits, $y$ can be computed by the following sub-circuit. Below, $x_1x_2x_3$ is renamed as $q_1q_2q_3$, $q_4$ is used as a working qubit, and $q_5$ is used to store the value of $y$.  "
   ]
  },
  {
   "cell_type": "code",
   "execution_count": 2,
   "metadata": {
    "ExecuteTime": {
     "end_time": "2018-09-25T17:34:42.934376Z",
     "start_time": "2018-09-25T17:34:42.923743Z"
    }
   },
   "outputs": [],
   "source": [
    "import numpy as np\n",
    "import matplotlib.pyplot as plt\n",
    "%matplotlib inline\n",
    "\n",
    "# importing Qiskit\n",
    "from qiskit import BasicAer, IBMQ\n",
    "from qiskit import QuantumCircuit, ClassicalRegister, QuantumRegister, execute, compile\n",
    "from qiskit.tools.visualization import plot_histogram"
   ]
  },
  {
   "cell_type": "code",
   "execution_count": 3,
   "metadata": {
    "ExecuteTime": {
     "end_time": "2018-09-25T17:32:05.667148Z",
     "start_time": "2018-09-25T17:32:03.983610Z"
    }
   },
   "outputs": [
    {
     "data": {
      "image/png": "[encoded data removed]",
      "text/plain": [
       "<Figure size 662.2x379.26 with 1 Axes>"
      ]
     },
     "execution_count": 3,
     "metadata": {},
     "output_type": "execute_result"
    }
   ],
   "source": [
    "# declare variables\n",
    "q = QuantumRegister(6)\n",
    "qc = QuantumCircuit(q)\n",
    "\n",
    "# store y to one of the qubit in qubit register\n",
    "qc.x(q[2])\n",
    "qc.cx(q[1], q[5])\n",
    "qc.cx(q[2], q[5])\n",
    "qc.cx(q[3], q[5])\n",
    "qc.ccx(q[1], q[2], q[4])\n",
    "qc.ccx(q[3], q[4], q[5])\n",
    "\n",
    "# initialize all qubits to 0 except y, for subsequent use of sub-circuit\n",
    "qc.ccx(q[1], q[2], q[4])\n",
    "qc.x(q[2])\n",
    "\n",
    "# draw the quantum circuit\n",
    "qc.draw(output='mpl')"
   ]
  },
  {
   "cell_type": "markdown",
   "metadata": {},
   "source": [
    "In the sub-circuit above, the three `ccx` gates on the right are used to compute $( q_1 \\wedge \\neg q_2 \\wedge q_3)$ and write the result to $q_5$, while the three `cx` gates on the left are used to compute $q_1 \\oplus \\neg q_2 \\oplus q_3$ and write the result to $q_5$. Notice that the right-most `ccx` gate is used to reset the value of $q_4$ so that it can be reused in the succeeding sub-circuits. \n",
    "\n",
    "From the above sub-circuit, we can define a blackbox function to check the solution of the Exactly-1 3-SAT problem as follows. Here, to expedite the process, we present a code to do this job. Make yourself understand how it works."
   ]
  },
  {
   "cell_type": "code",
   "execution_count": 4,
   "metadata": {
    "ExecuteTime": {
     "end_time": "2018-09-25T17:32:05.678916Z",
     "start_time": "2018-09-25T17:32:05.669852Z"
    }
   },
   "outputs": [],
   "source": [
    "def black_box_u_f(circuit, f_in, f_out, aux, n, exactly_1_3_sat_formula):\n",
    "    \"\"\"Circuit that computes the black-box function from f_in to f_out.\n",
    "\n",
    "    Create a circuit that verifies whether a given exactly-1 3-SAT\n",
    "    formula is satisfied by the input. The exactly-1 version\n",
    "    requires exactly one literal out of every clause to be satisfied.\n",
    "    \"\"\"\n",
    "    num_clauses = len(exactly_1_3_sat_formula)\n",
    "    for (k, clause) in enumerate(exactly_1_3_sat_formula):\n",
    "        # This loop ensures aux[k] is 1 if an odd number of literals\n",
    "        # are true\n",
    "        for literal in clause:\n",
    "            if literal > 0:\n",
    "                circuit.cx(f_in[literal-1], aux[k])\n",
    "            else:\n",
    "                circuit.x(f_in[-literal-1])\n",
    "                circuit.cx(f_in[-literal-1], aux[k])\n",
    "        # Flip aux[k] if all literals are true, using auxiliary qubit\n",
    "        # (ancilla) aux[num_clauses]\n",
    "        circuit.ccx(f_in[0], f_in[1], aux[num_clauses])\n",
    "        circuit.ccx(f_in[2], aux[num_clauses], aux[k])\n",
    "        # Flip back to reverse state of negative literals and ancilla\n",
    "        circuit.ccx(f_in[0], f_in[1], aux[num_clauses])\n",
    "        for literal in clause:\n",
    "            if literal < 0:\n",
    "                circuit.x(f_in[-literal-1])\n",
    "    # The formula is satisfied if and only if all auxiliary qubits\n",
    "    # except aux[num_clauses] are 1\n",
    "    if (num_clauses == 1):\n",
    "        circuit.cx(aux[0], f_out[0])\n",
    "    elif (num_clauses == 2):\n",
    "        circuit.ccx(aux[0], aux[1], f_out[0])\n",
    "    elif (num_clauses == 3):\n",
    "        circuit.ccx(aux[0], aux[1], aux[num_clauses])\n",
    "        circuit.ccx(aux[2], aux[num_clauses], f_out[0])\n",
    "        circuit.ccx(aux[0], aux[1], aux[num_clauses])\n",
    "    else:\n",
    "        raise ValueError('We only allow at most 3 clauses')\n",
    "    # Flip back any auxiliary qubits to make sure state is consistent\n",
    "    # for future executions of this routine; same loop as above.\n",
    "    for (k, clause) in enumerate(exactly_1_3_sat_formula):\n",
    "        for literal in clause:\n",
    "            if literal > 0:\n",
    "                circuit.cx(f_in[literal-1], aux[k])\n",
    "            else:\n",
    "                circuit.x(f_in[-literal-1])\n",
    "                circuit.cx(f_in[-literal-1], aux[k])\n",
    "        circuit.ccx(f_in[0], f_in[1], aux[num_clauses])\n",
    "        circuit.ccx(f_in[2], aux[num_clauses], aux[k])\n",
    "        circuit.ccx(f_in[0], f_in[1], aux[num_clauses])\n",
    "        for literal in clause:\n",
    "            if literal < 0:\n",
    "                circuit.x(f_in[-literal-1])\n",
    "# -- end function"
   ]
  },
  {
   "cell_type": "markdown",
   "metadata": {},
   "source": [
    "## Inversion about the average\n",
    "\n",
    "Another important procedure in Grover search is to have an operation that perfom the *inversion-about-the-average* step, namely, it performs the following transformation:\n",
    "\n",
    "$$\n",
    "\\sum_{j=0}^{2^{n}-1} \\alpha_j |j\\rangle \\rightarrow \\sum_{j=0}^{2^{n}-1}\\left(2 \\left( \\sum_{k=0}^{k=2^{n}-1} \\frac{\\alpha_k}{2^n} \\right) - \\alpha_j  \\right) |j\\rangle \n",
    "$$\n",
    "\n",
    "The above transformation can be used to amplify the probability amplitude $\\alpha_s$ when s is the solution and $\\alpha_s$ is negative (and small), while $\\alpha_j$ for $j \\neq s$ is positive. Though it looks like complicated, note that the amplitude on right-hand side can be reexpressed as (average-a)+average. Think about why this does the inversion-about-the-average.\n",
    "\n",
    "Roughly speaking, the value of $\\alpha_s$ increases by twice the average of the amplitudes, while others are reduced. This is the key principle in glover search, and in general called amplitude amplification (see Wikipedia : https://en.wikipedia.org/wiki/Amplitude_amplification for more detail).\n",
    "\n",
    "The inversion-about-the-average can be realized with the sequence of unitary matrices as below:\n",
    "\n",
    "$$\n",
    "U = H^{\\otimes n} \\left(2|0\\rangle \\langle 0 | - I \\right) H^{\\otimes n}\n",
    "$$\n",
    "\n",
    "The first and last $H$ are just Hadamard gates applied to each qubit. The operation in the middle requires us to design a sub-circuit that flips the probability amplitude of the component of the quantum state corresponding to the all-zero binary string. To see how it works, let's see it more closely.\n",
    "\n",
    "1. Show that U is indeed unitary.\n",
    "$$\n",
    "U^\\dagger = H^{\\otimes n} \\left(2|0\\rangle \\langle 0 | - I \\right) H^{\\otimes n}\n",
    "$$\n",
    "$$\n",
    "U^\\dagger U = I\n",
    "$$\n",
    "\n",
    "\n",
    "2. Let's assume 1 qubit case for simplicity. ($|\\psi\\rangle = a_0|0\\rangle + a_1|1\\rangle$) What should be the state after inversion-about-the-average? (Do not apply $U$ in this step, but calculate average and invert around it by hands)\n",
    "$$U|\\psi\\rangle = a_1|0\\rangle + a_0|1\\rangle$$\n",
    "\n",
    "\n",
    "3. Now we apply $U$ to $|\\psi\\rangle$, what's the state after applying only $H$ to $|\\psi\\rangle$?\n",
    "$$H|\\psi\\rangle = \\frac{(a_0+a_1)}{\\sqrt{2}}|0\\rangle + \\frac{(a_0-a_1)}{\\sqrt{2}}|1\\rangle$$\n",
    "\n",
    "\n",
    "4. What's the state after applying $\\left(2|0\\rangle \\langle 0 | - I \\right)$ to the result of 3? Does it change the sign of non-$|0\\rangle$ term?\n",
    "$$\\left(2|0\\rangle \\langle 0 | - I \\right)H|\\psi\\rangle = \\frac{(a_0+a_1)}{\\sqrt{2}}|0\\rangle - \\frac{(a_0-a_1)}{\\sqrt{2}}|1\\rangle$$\n",
    "\n",
    "\n",
    "5. What's the state after applying $H$ to the result of 4? Does your answer match the answer of 2?\n",
    "$$H\\left(2|0\\rangle \\langle 0 | - I \\right)H|\\psi\\rangle = a_1|0\\rangle + a_0|1\\rangle$$\n",
    "\n",
    "\n",
    "The sub-circuit $\\left(2|0\\rangle \\langle 0 | - I \\right)$ can be realized by the following function, which is a multi-qubit controlled-Z which flips the probability amplitude of the component of the quantum state corresponding to the all-one binary string. Applying X gates to all qubits before and after the function realizes the sub-circuit. Here, we provide a n-controlled_Z(circuit, controls, target) below.\n",
    "(See how it works.)"
   ]
  },
  {
   "cell_type": "code",
   "execution_count": 5,
   "metadata": {
    "ExecuteTime": {
     "end_time": "2018-09-25T17:32:08.246809Z",
     "start_time": "2018-09-25T17:32:08.236159Z"
    }
   },
   "outputs": [],
   "source": [
    "def n_controlled_Z(circuit, controls, target):\n",
    "    \"\"\"Implement a Z gate with multiple controls\"\"\"\n",
    "    if (len(controls) > 2):\n",
    "        raise ValueError('The controlled Z with more than 2 ' +\n",
    "                         'controls is not implemented')\n",
    "    elif (len(controls) == 1):\n",
    "        circuit.h(target)\n",
    "        circuit.cx(controls[0], target)\n",
    "        circuit.h(target)\n",
    "    elif (len(controls) == 2):\n",
    "        circuit.h(target)\n",
    "        circuit.ccx(controls[0], controls[1], target)\n",
    "        circuit.h(target)\n",
    "# -- end function"
   ]
  },
  {
   "cell_type": "markdown",
   "metadata": {},
   "source": [
    "Finally, the inversion-about-the-average circuit can be realized by the following function. Fill the definition below following the comments:"
   ]
  },
  {
   "cell_type": "code",
   "execution_count": 6,
   "metadata": {
    "ExecuteTime": {
     "end_time": "2018-09-25T17:32:09.200728Z",
     "start_time": "2018-09-25T17:32:09.196905Z"
    }
   },
   "outputs": [],
   "source": [
    "def inversion_about_average(circuit, f_in, n):\n",
    "    \"\"\"Apply inversion about the average step of Grover's algorithm.\"\"\"\n",
    "    # H gates for all qubits of f_in\n",
    "    for j in range(n):\n",
    "        circuit.h(f_in[j])\n",
    "        \n",
    "    # Implement the gates that flips the sign of |000> state only. (Use n-controlled_Z given above)\n",
    "    for j in range(n):\n",
    "        circuit.x(f_in[j])\n",
    "    n_controlled_Z(circuit, [f_in[j] for j in range(n-1)], f_in[n-1])\n",
    "    for j in range(n):\n",
    "        circuit.x(f_in[j])\n",
    "        \n",
    "    # H gates for all qubits of f_in, again.\n",
    "    for j in range(n):\n",
    "        circuit.h(f_in[j])\n"
   ]
  },
  {
   "cell_type": "markdown",
   "metadata": {},
   "source": [
    "Let's get the circuit diagram for the three qubit inversion-about-the-average."
   ]
  },
  {
   "cell_type": "code",
   "execution_count": 7,
   "metadata": {
    "ExecuteTime": {
     "end_time": "2018-09-25T17:32:11.403205Z",
     "start_time": "2018-09-25T17:32:10.138028Z"
    }
   },
   "outputs": [
    {
     "data": {
      "image/png": "[encoded data removed]",
      "text/plain": [
       "<Figure size 602x198.66 with 1 Axes>"
      ]
     },
     "execution_count": 7,
     "metadata": {},
     "output_type": "execute_result"
    }
   ],
   "source": [
    "# creat three qubit inversion-about-the-average circuit and draw it.\n",
    "qr = QuantumRegister(3)\n",
    "qInvAvg = QuantumCircuit(qr)\n",
    "inversion_about_average(qInvAvg, qr, 3)\n",
    "qInvAvg.draw(output='mpl')"
   ]
  },
  {
   "cell_type": "markdown",
   "metadata": {},
   "source": [
    "## Grover Search: putting all together\n",
    "\n",
    "The complete steps of Grover search is as follow.\n",
    "\n",
    "1. Create the superposition of all possible solutions as the initial state (with working qubits initialized to zero)\n",
    "$$\\sum_{j=0}^{7} \\frac{1}{\\sqrt{8}} |j\\rangle |-\\rangle$$,\n",
    "where $|j\\rangle$ are the qubits to be searched, and $|-\\rangle$ is the ancilla qubit. (Blackbox flips the ancilla qubit when the search qubits satisfy the condition. By setting ancilla qubit to $|-\\rangle$, the action of the blackbox changes into the sign change, $|-\\rangle\\rightarrow-|-\\rangle$. \n",
    "\n",
    "\n",
    "2. Repeat for $T$ times:\n",
    "\n",
    "    a) Apply the blackbox function\n",
    "    \n",
    "    b) Apply the inversion-about-the-average function\n",
    "      \n",
    "    \n",
    "3. Measure to obtain the solution\n",
    "\n",
    "The skeleton code for the above steps is as below. Fill the missing lines indicated by the comments."
   ]
  },
  {
   "cell_type": "code",
   "execution_count": 8,
   "metadata": {
    "ExecuteTime": {
     "end_time": "2018-09-25T17:37:05.873175Z",
     "start_time": "2018-09-25T17:34:42.936448Z"
    }
   },
   "outputs": [
    {
     "data": {
      "image/png": "[encoded data removed]",
      "text/plain": [
       "<Figure size 504x360 with 1 Axes>"
      ]
     },
     "execution_count": 8,
     "metadata": {},
     "output_type": "execute_result"
    }
   ],
   "source": [
    "# create the circuit initializing the state.\n",
    "\n",
    "def input_state(circuit, f_in, f_out, n):\n",
    "    for j in range(n):\n",
    "        circuit.h(f_in[j])\n",
    "    #f_out is initialized into |->\n",
    "    circuit.x(f_out)\n",
    "    circuit.h(f_out)\n",
    "# -- end function\n",
    "\n",
    "# We make three-qubit glover search circuit.\n",
    "n = 3\n",
    "\n",
    "# Exactly-1 3-SAT formula to be satisfied, in conjunctive\n",
    "# normal form. We represent literals with integers, positive or\n",
    "# negative, to indicate a Boolean variable or its negation.\n",
    "exactly_1_3_sat_formula = [[1, 2, -3], [-1, -2, -3], [-1, 2, 3]]\n",
    "\n",
    "# Define three quantum registers: 'f_in' is the search space (input\n",
    "# to the function f), 'f_out' is bit used for the output of function\n",
    "# f, aux are the auxiliary bits used by f to perform its\n",
    "# computation.\n",
    "\n",
    "## ACTION REQUIRED!!! Declare f_in, f_out and aux. (size of aux should be 1 + (number or clauses))\n",
    "f_in = QuantumRegister(n)\n",
    "f_out = QuantumRegister(1)\n",
    "aux = QuantumRegister(len(exactly_1_3_sat_formula) + 1)\n",
    "\n",
    "# ACTION REQUIRED!!! Define classical register ans for algorithm result\n",
    "ans = ClassicalRegister(n)\n",
    "\n",
    "# ACTION REQUIRED!!! Add registers to the quantum circuit \"grover\"\n",
    "grover = QuantumCircuit()\n",
    "grover.add_register(f_in)\n",
    "grover.add_register(f_out)\n",
    "grover.add_register(aux)\n",
    "grover.add_register(ans)\n",
    "\n",
    "# Initialize the states (adding the initiailzation circuit to the \"grover\")\n",
    "input_state(grover, f_in, f_out, n)\n",
    "\n",
    "# We do the iteration only twice (T=2), since grover search requires about sqrt(N) cycles.\n",
    "T = 2\n",
    "for t in range(T):\n",
    "    # ACTION REQUIRED!!! Type lines doing blackbox operation and the inversion_about_average.\n",
    "    black_box_u_f(grover, f_in, f_out, aux, n, exactly_1_3_sat_formula)\n",
    "    inversion_about_average(grover, f_in, n)\n",
    "\n",
    "for j in range(n):\n",
    "    # ACTION REQUIRED!!! Measure the output register in the computational basis (store it in ans)\n",
    "    grover.measure(f_in[j], ans[j])\n",
    "\n",
    "# Execute circuit\n",
    "## ACTION REQUIRED!!! Fill the correct backend\n",
    "backend = BasicAer.get_backend('qasm_simulator')\n",
    "job = execute([grover], backend=backend, shots=100)\n",
    "result = job.result()\n",
    "\n",
    "# ACTION REQUIRED!!! Get counts and plot histogram\n",
    "counts = result.get_counts(grover)\n",
    "plot_histogram(counts)"
   ]
  },
  {
   "cell_type": "markdown",
   "metadata": {},
   "source": [
    "## References\n",
    "\n",
    "[1] \"[A fast quantum mechanical algorithm for database search](https://arxiv.org/abs/quant-ph/9605043)\", L. K. Grover, Proceedings of the 28th Annual ACM Symposium on the Theory of Computing (STOC 1996)\n",
    "\n",
    "[2] \"[Tight bounds on quantum searching](https://arxiv.org/abs/quant-ph/9605034)\", Boyer et al., Fortsch.Phys.46:493-506,1998"
   ]
  }
 ],
 "metadata": {
  "anaconda-cloud": {},
  "kernelspec": {
   "display_name": "Python 3",
   "language": "python",
   "name": "python3"
  },
  "language_info": {
   "codemirror_mode": {
    "name": "ipython",
    "version": 3
   },
   "file_extension": ".py",
   "mimetype": "text/x-python",
   "name": "python",
   "nbconvert_exporter": "python",
   "pygments_lexer": "ipython3",
   "version": "3.7.1"
  },
  "latex_envs": {
   "bibliofile": "biblio.bib",
   "cite_by": "apalike",
   "current_citInitial": 1,
   "eqLabelWithNumbers": true,
   "eqNumInitial": 0
  },
  "nav_menu": {},
  "toc": {
   "navigate_menu": true,
   "number_sections": true,
   "sideBar": true,
   "threshold": 6,
   "toc_cell": false,
   "toc_section_display": "block",
   "toc_window_display": false
  }
 },
 "nbformat": 4,
 "nbformat_minor": 1
}
