{
 "cells": [
  {
   "cell_type": "markdown",
   "metadata": {},
   "source": [
    "<img src=\"../../../../images/qiskit-heading.gif\" alt=\"Note: In order for images to show up in this jupyter notebook you need to select File => Trusted Notebook\" width=\"500 px\" align=\"left\">"
   ]
  },
  {
   "cell_type": "markdown",
   "metadata": {},
   "source": [
    "\n",
    "# _*Quantum K-Means algorithm*_ \n",
    "\n",
    "The latest version of this notebook is available on https://github.com/qiskit/qiskit-tutorial.\n",
    "\n",
    "***\n",
    "### Contributors \n",
    "Shan Jin, Xi He, Xiaokai Hou, Li Sun, Dingding Wen, Shaojun Wu and Xiaoting Wang$^{1}$\n",
    "\n",
    "1. Institute of Fundamental and Frontier Sciences, University of Electronic Science and Technology of China，Chengdu, China，610051\n",
    "***"
   ]
  },
  {
   "cell_type": "markdown",
   "metadata": {},
   "source": [
    "## Introduction\n",
    "Clustering algorithm is a typical unsupervised learning algorithm, which is mainly used to automatically classify similar samples into one category.In the clustering algorithm, according to the similarity between the samples, the samples are divided into different categories. For different similarity calculation methods, different clustering results will be obtained. The commonly used similarity calculation method is the Euclidean distance method.\n",
    "What we want to show is the quantum K-Means algorithm. The K-Means algorithm is a distance-based clustering algorithm that uses distance as an evaluation index for similarity, that is, the closer the distance between two objects is, the greater the similarity. The algorithm considers the cluster to be composed of objects that are close together, so the compact and independent cluster is the ultimate target.\n",
    "\n",
    "\n",
    "#### Experiment design\n",
    "The implementation of the quantum K-Means algorithm mainly uses the swap test to compare the distances among the input data points. Select K points randomly from N data points as centroids, measure the distance from each point to each centroid, and assign it to the nearest centroid- class, recalculate centroids of each class that has been obtained, and iterate 2 to 3 steps until the new centroid is equal to or less than the specified threshold, and the algorithm ends. In our example, we selected 6 data points, 2 centroids, and used the swap test circuit to calculate the distance. Finally, we obtained two clusters of data points.\n",
    "$|0\\rangle$ is an auxiliary qubit, through left $H$ gate, it will be changed to $\\frac{1}{\\sqrt{2}}(|0\\rangle + |1\\rangle)$. Then under the control of $|1\\rangle$, the circuit will swap two vectors $|x\\rangle$ and $|y\\rangle$. Finally, we get the result at the right end of the circuit:\n",
    "$$|0_{anc}\\rangle |x\\rangle |y\\rangle \\rightarrow \\frac{1}{2}|0_{anc}\\rangle(|xy\\rangle + |yx\\rangle) + \\frac{1}{2}|1_{anc}\\rangle(|xy\\rangle - |yx\\rangle)$$\n",
    "If we measure auxiliary qubit alone, then the probability of final state in the ground state $|1\\rangle$ is:\n",
    "$$P(|1_{anc}\\rangle) = \\frac{1}{2} - \\frac{1}{2}|\\langle x | y \\rangle|^2$$\n",
    "If we measure auxiliary qubit alone, then the probability of final state in the ground state $|1\\rangle$ is:\n",
    "$$Euclidean \\ distance = \\sqrt{(2 - 2|\\langle x | y \\rangle|)}$$\n",
    "So, we can see that the probability of measuring $|1\\rangle$ has positive correlation with the Euclidean distance.\n",
    "The schematic diagram of quantum K-Means is as the follow picture.[[1]](#cite) \n",
    "<img src=\"../images/k_means_circuit.png\">\n",
    "To make our algorithm can be run using qiskit, we design a more detailed circuit to achieve our algorithm. \n",
    "|\n",
    "#### Quantum K-Means circuit\n",
    "<img src=\"../images/k_means.png\">"
   ]
  },
  {
   "cell_type": "markdown",
   "metadata": {},
   "source": [
    "## Data points\n",
    "<table border=\"1\">\n",
    "<tr>\n",
    "<td>point num</td>\n",
    "<td>theta</td>\n",
    "<td>phi</td>\n",
    "<td>lam</td>\n",
    "<td>x</td>\n",
    "<td>y</td>\n",
    "</tr>\n",
    "<tr>\n",
    "<td>1</td>\n",
    "<td>0.01</td>\n",
    "<td>pi</td>\n",
    "<td>pi</td>\n",
    "<td>0.710633</td>\n",
    "<td>0.703562</td>\n",
    "</tr>\n",
    "<tr>\n",
    "<td>2</td>\n",
    "<td>0.02</td>\n",
    "<td>pi</td>\n",
    "<td>pi</td>\n",
    "<td>0.714142</td>\n",
    "<td>0.7</td>\n",
    "</tr>\n",
    "<tr>\n",
    "<td>3</td>\n",
    "<td>0.03</td>\n",
    "<td>pi</td>\n",
    "<td>pi</td>\n",
    "<td>0.717633</td>\n",
    "<td>0.696421</td>\n",
    "</tr>\n",
    "<tr>\n",
    "<td>4</td>\n",
    "<td>0.04</td>\n",
    "<td>pi</td>\n",
    "<td>pi</td>\n",
    "<td>0.721107</td>\n",
    "<td>0.692824</td>\n",
    "</tr>\n",
    "<tr>\n",
    "<td>5</td>\n",
    "<td>0.05</td>\n",
    "<td>pi</td>\n",
    "<td>pi</td>\n",
    "<td>0.724562</td>\n",
    "<td>0.68921</td>\n",
    "</tr>\n",
    "<tr>\n",
    "<td>6</td>\n",
    "<td>1.31</td>\n",
    "<td>pi</td>\n",
    "<td>pi</td>\n",
    "<td>0.886811</td>\n",
    "<td>0.462132</td>\n",
    "</tr>\n",
    "<tr>\n",
    "<td>7</td>\n",
    "<td>1.32</td>\n",
    "<td>pi</td>\n",
    "<td>pi</td>\n",
    "<td>0.889111</td>\n",
    "<td>0.457692</td>\n",
    "</tr>\n",
    "<tr>\n",
    "<td>8</td>\n",
    "<td>1.33</td>\n",
    "<td>pi</td>\n",
    "<td>pi</td>\n",
    "<td>0.891388</td>\n",
    "<td>0.453241</td>\n",
    "</tr>\n",
    "<tr>\n",
    "<td>9</td>\n",
    "<td>1.34</td>\n",
    "<td>pi</td>\n",
    "<td>pi</td>\n",
    "<td>0.893643</td>\n",
    "<td>0.448779</td>\n",
    "</tr>\n",
    "<tr>\n",
    "<td>10</td>\n",
    "<td>1.35</td>\n",
    "<td>pi</td>\n",
    "<td>pi</td>\n",
    "<td>0.895876</td>\n",
    "<td>0.444305</td>\n",
    "</tr>\n"
   ]
  },
  {
   "cell_type": "markdown",
   "metadata": {},
   "source": [
    "## Quantum K-Means algorithm program"
   ]
  },
  {
   "cell_type": "code",
   "execution_count": 1,
   "metadata": {},
   "outputs": [
    {
     "name": "stderr",
     "output_type": "stream",
     "text": [
      "/Users/jacquescarolan/anaconda2/envs/Qiskitenv/lib/python3.7/site-packages/marshmallow/schema.py:364: ChangedInMarshmallow3Warning: strict=False is not recommended. In marshmallow 3.0, schemas will always be strict. See https://marshmallow.readthedocs.io/en/latest/upgrading.html#schemas-are-always-strict\n",
      "  ChangedInMarshmallow3Warning\n"
     ]
    }
   ],
   "source": [
    "# import math lib\n",
    "from math import pi\n",
    "\n",
    "# import Qiskit\n",
    "from qiskit import Aer, IBMQ, execute\n",
    "from qiskit import QuantumCircuit, ClassicalRegister, QuantumRegister\n",
    "\n",
    "# import basic plot tools\n",
    "from qiskit.tools.visualization import plot_histogram"
   ]
  },
  {
   "cell_type": "code",
   "execution_count": 2,
   "metadata": {},
   "outputs": [],
   "source": [
    "# To use local qasm simulator\n",
    "backend = Aer.get_backend('qasm_simulator')"
   ]
  },
  {
   "cell_type": "markdown",
   "metadata": {},
   "source": [
    "In this section, we first judge the version of Python and import the packages of qiskit, math to implement the following code. We show our algorithm on the ibm_qasm_simulator, if you need to run it on the real quantum conputer, please remove the \"#\" in frint of \"import Qconfig\"."
   ]
  },
  {
   "cell_type": "code",
   "execution_count": 3,
   "metadata": {},
   "outputs": [],
   "source": [
    "theta_list = [0.01, 0.02, 0.03, 0.04, 0.05, 1.31, 1.32, 1.33, 1.34, 1.35]"
   ]
  },
  {
   "cell_type": "markdown",
   "metadata": {},
   "source": [
    "Here we define the number pi in the math lib, because we need to use u3 gate. And we also define a list about the parameter theta which we need to use in the u3 gate. As the same above, if you want to implement on the real quantum comnputer, please remove the symbol \"#\" and configure your local Qconfig.py file. "
   ]
  },
  {
   "cell_type": "code",
   "execution_count": null,
   "metadata": {
    "scrolled": true
   },
   "outputs": [],
   "source": [
    "# create Quantum Register called \"qr\" with 5 qubits\n",
    "qr = QuantumRegister(5, name=\"qr\")\n",
    "# create Classical Register called \"cr\" with 5 bits\n",
    "cr = ClassicalRegister(5, name=\"cr\")\n",
    "    \n",
    "# Creating Quantum Circuit called \"qc\" involving your Quantum Register \"qr\"\n",
    "# and your Classical Register \"cr\"\n",
    "qc = QuantumCircuit(qr, cr, name=\"k_means\")\n",
    "    \n",
    "#Define a loop to compute the distance between each pair of points\n",
    "for i in range(9):\n",
    "    for j in range(1,10-i):\n",
    "        # Set the parament theta about different point\n",
    "        theta_1 = theta_list[i]\n",
    "        theta_2 = theta_list[i+j]\n",
    "        #Achieve the quantum circuit via qiskit\n",
    "        qc.h(qr[2])\n",
    "        qc.h(qr[1])\n",
    "        qc.h(qr[4])\n",
    "        qc.u3(theta_1, pi, pi, qr[1])\n",
    "        qc.u3(theta_2, pi, pi, qr[4])\n",
    "        qc.cswap(qr[2], qr[1], qr[4])\n",
    "        qc.h(qr[2])\n",
    "                \n",
    "        qc.measure(qr[2], cr[2])\n",
    "        qc.reset(qr)\n",
    "            \n",
    "        job = execute(qc,   backend=backend, shots=1024)\n",
    "        result = job.result()   \n",
    "        print(result)\n",
    "        print('theta_1:' + str(theta_1))\n",
    "        print('theta_2:' + str(theta_2))\n",
    "#         print( result.get_data(qc))\n",
    "        plot_histogram(result.get_counts())"
   ]
  },
  {
   "cell_type": "markdown",
   "metadata": {},
   "source": [
    "Here we achieve the function k_means() and the test main function to run the program. Considering the qubits controlling direction of ibmqx4, we takes the quantum register 1, 2, 4 as our working register, if you want to run this program on other computer, please redesign the circuit structure to ensure your program can be run accurately. "
   ]
  },
  {
   "cell_type": "markdown",
   "metadata": {},
   "source": [
    "## Result analysis\n",
    "In this program, we take the quantum register 1, 2, 4 as our operated register (considering the condition when using ibmqx4.) We take the quantum register 1, 4 storing the input information about data points, and the quantum register 2 as controlling register to decide whether to use the swap operator. To estimate the distance of any pair of data points, we use a loop to implement the K-Means Circuit. In the end, we measure the controlling register to judge the distance between two data points. The probability when we get 1 means that the distance between two data points."
   ]
  },
  {
   "cell_type": "markdown",
   "metadata": {},
   "source": [
    "## Reference\n",
    "<cite>[1].Quantum algorithms for supervised and unsupervised machine learning(*see open access: [ arXiv:1307.0411v2](https://arxiv.org/abs/1307.0411)*)</cite><a id='cite'></a>"
   ]
  }
 ],
 "metadata": {
  "kernelspec": {
   "display_name": "Python 3",
   "language": "python",
   "name": "python3"
  },
  "language_info": {
   "codemirror_mode": {
    "name": "ipython",
    "version": 3
   },
   "file_extension": ".py",
   "mimetype": "text/x-python",
   "name": "python",
   "nbconvert_exporter": "python",
   "pygments_lexer": "ipython3",
   "version": "3.7.1"
  }
 },
 "nbformat": 4,
 "nbformat_minor": 2
}
